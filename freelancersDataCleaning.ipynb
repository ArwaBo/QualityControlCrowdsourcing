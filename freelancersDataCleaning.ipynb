{
 "cells": [
  {
   "cell_type": "heading",
   "metadata": {},
   "level": 6,
   "source": [
    "1.DATA CLEANING"
   ]
  },
  {
   "cell_type": "heading",
   "metadata": {},
   "level": 5,
   "source": [
    "1.1. Data Compataibility"
   ]
  },
  {
   "cell_type": "code",
   "execution_count": 71,
   "metadata": {
    "collapsed": true
   },
   "outputs": [],
   "source": [
    "import matplotlib.pyplot as plt\n",
    "import pandas as pd\n",
    "import numpy as np\n",
    "%matplotlib inline"
   ]
  },
  {
   "cell_type": "code",
   "execution_count": 72,
   "metadata": {},
   "outputs": [],
   "source": [
    "# reading freelancers data \n",
    "freelancers_df = pd.read_csv('C:/Users/Arwa/Desktop/datasets/Freelancers_Data_raw.csv',\n",
    "                             encoding='utf-8')"
   ]
  },
  {
   "cell_type": "code",
   "execution_count": 73,
   "metadata": {},
   "outputs": [
    {
     "name": "stdout",
     "output_type": "stream",
     "text": [
      "   wage  rating job_completion_rate           name  \\\n0  $15      5.0                100%        @A1GFX,   \n1  $20      4.9                 98%     @AaRTMART,   \n2  $15      5.0                100%  @aarushvarma,   \n3   $5      4.5                100%       @aashus,   \n4   $7      4.9                100%    @AAstudioO,   \n\n                                               title on_budget_rate  \\\n0  A1GFX - Allround Graphic Designer - Netherland...           100%   \n1  AaRTMART - Quality Guaranteed - Pakistan | Fre...            97%   \n2  Aarush Varma - Graphic Designers and Illustrat...           100%   \n3  Aashu  S - SEO, SMM & SEM Expert - India | Fre...           100%   \n4  Ahsan_Fateh - Customer satisfaction is my main...           100%   \n\n  on_time_rate repeat_hire_rate number_of_reviews     location    ...     \\\n0         100%              25%         5 reviews  Netherlands    ...      \n1          97%              17%       212 reviews     Pakistan    ...      \n2         100%              25%        11 reviews        India    ...      \n3          84%               8%         7 reviews        India    ...      \n4         100%              NaN        27 reviews     Pakistan    ...      \n\n             skilks 1     skilks 2        skilks 3       skilks 4  \\\n0      Graphic Design    Photoshop     Illustrator       T-Shirts   \n1      Graphic Design  Logo Design     Illustrator  Banner Design   \n2      Graphic Design  Logo Design       Photoshop    Photography   \n3  Internet Marketing          SEO   Link Building  Photo Editing   \n4         Logo Design     Branding  Website Design    Illustrator   \n\n                  skilks 5               skilks 6          skilks 7  \\\n0            Poster Design  User Interface Design               NaN   \n1           Website Design    User Interface / IA      Illustration   \n2              Illustrator          Photo Editing  Photoshop Design   \n3  Search Engine Marketing                    NaN               NaN   \n4                    Print          Poster Design  Photoshop Design   \n\n             skilks 8 skilks 9 skilks 10  \n0                 NaN      NaN       NaN  \n1  Corporate Identity      PHP      Java  \n2                 NaN      NaN       NaN  \n3                 NaN      NaN       NaN  \n4                 NaN      NaN       NaN  \n\n[5 rows x 21 columns]\n"
     ]
    }
   ],
   "source": [
    "print(freelancers_df.head())"
   ]
  },
  {
   "cell_type": "heading",
   "metadata": {},
   "level": 4,
   "source": [
    "1- delete white spaces from all data "
   ]
  },
  {
   "cell_type": "code",
   "execution_count": 75,
   "metadata": {},
   "outputs": [],
   "source": [
    "def trimAllColumns(df):\n",
    "    \"\"\"\n",
    "    Trim whitespace from ends of each value across all series in dataframe\n",
    "    \"\"\"\n",
    "    trimStrings = lambda x: x.strip() if type(x) is str else x\n",
    "    return df.applymap(trimStrings)\n",
    "\n",
    "\n",
    "freelancers_df = trimAllColumns(freelancers_df)"
   ]
  },
  {
   "cell_type": "code",
   "execution_count": 76,
   "metadata": {},
   "outputs": [
    {
     "name": "stdout",
     "output_type": "stream",
     "text": [
      "  wage  rating job_completion_rate           name  \\\n0  $15     5.0                100%        @A1GFX,   \n1  $20     4.9                 98%     @AaRTMART,   \n2  $15     5.0                100%  @aarushvarma,   \n3   $5     4.5                100%       @aashus,   \n4   $7     4.9                100%    @AAstudioO,   \n\n                                               title on_budget_rate  \\\n0  A1GFX - Allround Graphic Designer - Netherland...           100%   \n1  AaRTMART - Quality Guaranteed - Pakistan | Fre...            97%   \n2  Aarush Varma - Graphic Designers and Illustrat...           100%   \n3  Aashu  S - SEO, SMM & SEM Expert - India | Fre...           100%   \n4  Ahsan_Fateh - Customer satisfaction is my main...           100%   \n\n  on_time_rate repeat_hire_rate number_of_reviews     location    ...     \\\n0         100%              25%         5 reviews  Netherlands    ...      \n1          97%              17%       212 reviews     Pakistan    ...      \n2         100%              25%        11 reviews        India    ...      \n3          84%               8%         7 reviews        India    ...      \n4         100%              NaN        27 reviews     Pakistan    ...      \n\n             skilks 1     skilks 2        skilks 3       skilks 4  \\\n0      Graphic Design    Photoshop     Illustrator       T-Shirts   \n1      Graphic Design  Logo Design     Illustrator  Banner Design   \n2      Graphic Design  Logo Design       Photoshop    Photography   \n3  Internet Marketing          SEO   Link Building  Photo Editing   \n4         Logo Design     Branding  Website Design    Illustrator   \n\n                  skilks 5               skilks 6          skilks 7  \\\n0            Poster Design  User Interface Design               NaN   \n1           Website Design    User Interface / IA      Illustration   \n2              Illustrator          Photo Editing  Photoshop Design   \n3  Search Engine Marketing                    NaN               NaN   \n4                    Print          Poster Design  Photoshop Design   \n\n             skilks 8 skilks 9 skilks 10  \n0                 NaN      NaN       NaN  \n1  Corporate Identity      PHP      Java  \n2                 NaN      NaN       NaN  \n3                 NaN      NaN       NaN  \n4                 NaN      NaN       NaN  \n\n[5 rows x 21 columns]\n"
     ]
    }
   ],
   "source": [
    "print(freelancers_df.head())\n"
   ]
  },
  {
   "cell_type": "heading",
   "metadata": {},
   "level": 4,
   "source": [
    "2- delete dollar sign from wages "
   ]
  },
  {
   "cell_type": "code",
   "execution_count": 77,
   "metadata": {},
   "outputs": [],
   "source": [
    "freelancers_df['wage'] = freelancers_df['wage'].map(lambda x: x.strip('$'))"
   ]
  },
  {
   "cell_type": "code",
   "execution_count": 78,
   "metadata": {
    "collapsed": true
   },
   "outputs": [
    {
     "name": "stdout",
     "output_type": "stream",
     "text": [
      "  wage  rating job_completion_rate           name  \\\n0   15     5.0                100%        @A1GFX,   \n1   20     4.9                 98%     @AaRTMART,   \n2   15     5.0                100%  @aarushvarma,   \n3    5     4.5                100%       @aashus,   \n4    7     4.9                100%    @AAstudioO,   \n\n                                               title on_budget_rate  \\\n0  A1GFX - Allround Graphic Designer - Netherland...           100%   \n1  AaRTMART - Quality Guaranteed - Pakistan | Fre...            97%   \n2  Aarush Varma - Graphic Designers and Illustrat...           100%   \n3  Aashu  S - SEO, SMM & SEM Expert - India | Fre...           100%   \n4  Ahsan_Fateh - Customer satisfaction is my main...           100%   \n\n  on_time_rate repeat_hire_rate number_of_reviews     location    ...     \\\n0         100%              25%         5 reviews  Netherlands    ...      \n1          97%              17%       212 reviews     Pakistan    ...      \n2         100%              25%        11 reviews        India    ...      \n3          84%               8%         7 reviews        India    ...      \n4         100%              NaN        27 reviews     Pakistan    ...      \n\n             skilks 1     skilks 2        skilks 3       skilks 4  \\\n0      Graphic Design    Photoshop     Illustrator       T-Shirts   \n1      Graphic Design  Logo Design     Illustrator  Banner Design   \n2      Graphic Design  Logo Design       Photoshop    Photography   \n3  Internet Marketing          SEO   Link Building  Photo Editing   \n4         Logo Design     Branding  Website Design    Illustrator   \n\n                  skilks 5               skilks 6          skilks 7  \\\n0            Poster Design  User Interface Design               NaN   \n1           Website Design    User Interface / IA      Illustration   \n2              Illustrator          Photo Editing  Photoshop Design   \n3  Search Engine Marketing                    NaN               NaN   \n4                    Print          Poster Design  Photoshop Design   \n\n             skilks 8 skilks 9 skilks 10  \n0                 NaN      NaN       NaN  \n1  Corporate Identity      PHP      Java  \n2                 NaN      NaN       NaN  \n3                 NaN      NaN       NaN  \n4                 NaN      NaN       NaN  \n\n[5 rows x 21 columns]\n"
     ]
    }
   ],
   "source": [
    "print(freelancers_df.head())\n"
   ]
  },
  {
   "cell_type": "heading",
   "metadata": {},
   "level": 4,
   "source": [
    "3- convert string to integer "
   ]
  },
  {
   "cell_type": "code",
   "execution_count": 84,
   "metadata": {},
   "outputs": [],
   "source": [
    "freelancers_df.wage = pd.to_numeric(freelancers_df.wage, errors='coerce').fillna(0).astype(np.int64)\n",
    "print(freelancers_df['wage'].dtypes)"
   ]
  },
  {
   "cell_type": "code",
   "execution_count": 88,
   "metadata": {},
   "outputs": [
    {
     "name": "stdout",
     "output_type": "stream",
     "text": [
      "   wage  rating job_completion_rate           name  \\\n0    15     5.0                100%        @A1GFX,   \n1    20     4.9                 98%     @AaRTMART,   \n2    15     5.0                100%  @aarushvarma,   \n3     5     4.5                100%       @aashus,   \n4     7     4.9                100%    @AAstudioO,   \n\n                                               title on_budget_rate  \\\n0  A1GFX - Allround Graphic Designer - Netherland...           100%   \n1  AaRTMART - Quality Guaranteed - Pakistan | Fre...            97%   \n2  Aarush Varma - Graphic Designers and Illustrat...           100%   \n3  Aashu  S - SEO, SMM & SEM Expert - India | Fre...           100%   \n4  Ahsan_Fateh - Customer satisfaction is my main...           100%   \n\n  on_time_rate repeat_hire_rate number_of_reviews     location    ...     \\\n0         100%              25%         5 reviews  Netherlands    ...      \n1          97%              17%       212 reviews     Pakistan    ...      \n2         100%              25%        11 reviews        India    ...      \n3          84%               8%         7 reviews        India    ...      \n4         100%              NaN        27 reviews     Pakistan    ...      \n\n             skilks 1     skilks 2        skilks 3       skilks 4  \\\n0      Graphic Design    Photoshop     Illustrator       T-Shirts   \n1      Graphic Design  Logo Design     Illustrator  Banner Design   \n2      Graphic Design  Logo Design       Photoshop    Photography   \n3  Internet Marketing          SEO   Link Building  Photo Editing   \n4         Logo Design     Branding  Website Design    Illustrator   \n\n                  skilks 5               skilks 6          skilks 7  \\\n0            Poster Design  User Interface Design               NaN   \n1           Website Design    User Interface / IA      Illustration   \n2              Illustrator          Photo Editing  Photoshop Design   \n3  Search Engine Marketing                    NaN               NaN   \n4                    Print          Poster Design  Photoshop Design   \n\n             skilks 8 skilks 9 skilks 10  \n0                 NaN      NaN       NaN  \n1  Corporate Identity      PHP      Java  \n2                 NaN      NaN       NaN  \n3                 NaN      NaN       NaN  \n4                 NaN      NaN       NaN  \n\n[5 rows x 21 columns]\n"
     ]
    }
   ],
   "source": [
    "print(freelancers_df.head())"
   ]
  },
  {
   "cell_type": "code",
   "execution_count": 90,
   "metadata": {},
   "outputs": [
    {
     "data": {
      "text/plain": [
       "<matplotlib.axes._subplots.AxesSubplot at 0x54d121ca58>"
      ]
     },
     "execution_count": 90,
     "metadata": {},
     "output_type": "execute_result"
    },
    {
     "data": {
      "image/png": "[encoded data removed]",
      "text/plain": [
       "<matplotlib.figure.Figure at 0x54ceb5c128>"
      ]
     },
     "metadata": {},
     "output_type": "display_data"
    }
   ],
   "source": [
    "freelancers_df['wage'].plot()"
   ]
  },
  {
   "cell_type": "code",
   "execution_count": 91,
   "metadata": {},
   "outputs": [
    {
     "name": "stdout",
     "output_type": "stream",
     "text": [
      "['wage', 'rating', 'job_completion_rate', 'name', 'title', 'on_budget_rate', 'on_time_rate', 'repeat_hire_rate', 'number_of_reviews', 'location', 'education', 'skilks 1', 'skilks 2', 'skilks 3', 'skilks 4', 'skilks 5', 'skilks 6', 'skilks 7', 'skilks 8', 'skilks 9', 'skilks 10']\n"
     ]
    }
   ],
   "source": [
    "print(list(freelancers_df))"
   ]
  },
  {
   "cell_type": "heading",
   "metadata": {},
   "level": 4,
   "source": [
    "4- #removing all non digits "
   ]
  },
  {
   "cell_type": "code",
   "execution_count": 92,
   "metadata": {},
   "outputs": [],
   "source": [
    "freelancers_df['job_completion_rate'] = freelancers_df['job_completion_rate'].astype(str)\\\n",
    "    .str.replace('\\D+', '')"
   ]
  },
  {
   "cell_type": "code",
   "execution_count": 93,
   "metadata": {},
   "outputs": [],
   "source": [
    "freelancers_df['on_budget_rate'] = freelancers_df['on_budget_rate'].astype(str).str.replace('\\D+', '')\n"
   ]
  },
  {
   "cell_type": "code",
   "execution_count": 94,
   "metadata": {},
   "outputs": [],
   "source": [
    "freelancers_df['on_time_rate'] = freelancers_df['on_time_rate'].astype(str).str.replace('\\D+', '')\n"
   ]
  },
  {
   "cell_type": "code",
   "execution_count": 95,
   "metadata": {},
   "outputs": [],
   "source": [
    "freelancers_df['repeat_hire_rate'] = freelancers_df['repeat_hire_rate'].astype(str).str.replace('\\D+', '')"
   ]
  },
  {
   "cell_type": "heading",
   "metadata": {},
   "level": 4,
   "source": [
    "5- change type to flaot and null to zeros"
   ]
  },
  {
   "cell_type": "code",
   "execution_count": 96,
   "metadata": {},
   "outputs": [],
   "source": [
    "freelancers_df['job_completion_rate'] = freelancers_df['job_completion_rate'].\\\n",
    "    apply(pd.to_numeric, errors='coerce').fillna(0).astype(float)"
   ]
  },
  {
   "cell_type": "code",
   "execution_count": 97,
   "metadata": {},
   "outputs": [],
   "source": [
    "freelancers_df['on_budget_rate'] = freelancers_df['on_budget_rate'].\\\n",
    "    apply(pd.to_numeric, errors='coerce').fillna(0).astype(float)"
   ]
  },
  {
   "cell_type": "code",
   "execution_count": 98,
   "metadata": {},
   "outputs": [],
   "source": [
    "freelancers_df['on_time_rate'] = freelancers_df['on_time_rate'].\\\n",
    "    apply(pd.to_numeric, errors='coerce').fillna(0).astype(float)"
   ]
  },
  {
   "cell_type": "code",
   "execution_count": 99,
   "metadata": {},
   "outputs": [],
   "source": [
    "freelancers_df['repeat_hire_rate'] = freelancers_df['repeat_hire_rate'].\\\n",
    "    apply(pd.to_numeric, errors='coerce').fillna(0).astype(float)"
   ]
  },
  {
   "cell_type": "heading",
   "metadata": {},
   "level": 3,
   "source": [
    "6- # convert percentage to float in [0,1]"
   ]
  },
  {
   "cell_type": "code",
   "execution_count": 100,
   "metadata": {},
   "outputs": [],
   "source": [
    "print(freelancers_df.dtypes)"
   ]
  },
  {
   "cell_type": "code",
   "execution_count": 101,
   "metadata": {},
   "outputs": [
    {
     "name": "stdout",
     "output_type": "stream",
     "text": [
      "0       100.0\n1        98.0\n2       100.0\n3       100.0\n4       100.0\n5        95.0\n6       100.0\n7       100.0\n8       100.0\n9        96.0\n10       50.0\n11       91.0\n12      100.0\n13      100.0\n14       97.0\n15      100.0\n16      100.0\n17       89.0\n18      100.0\n19      100.0\n20      100.0\n21       93.0\n22       94.0\n23       99.0\n24      100.0\n25       95.0\n26       86.0\n27      100.0\n28      100.0\n29      100.0\n        ...  \n3739    100.0\n3740    100.0\n3741    100.0\n3742     90.0\n3743    100.0\n3744     96.0\n3745    100.0\n3746    100.0\n3747     93.0\n3748     83.0\n3749     99.0\n3750    100.0\n3751     98.0\n3752    100.0\n3753    100.0\n3754     87.0\n3755     69.0\n3756     90.0\n3757    100.0\n3758     80.0\n3759     99.0\n3760     91.0\n3761    100.0\n3762    100.0\n3763    100.0\n3764     98.0\n3765     89.0\n3766     98.0\n3767    100.0\n3768    100.0\nName: job_completion_rate, Length: 3769, dtype: float64\n"
     ]
    }
   ],
   "source": [
    "print(freelancers_df['job_completion_rate'])\n",
    "freelancers_df['job_completion_rate'] = freelancers_df['job_completion_rate']/100\n",
    "\n"
   ]
  },
  {
   "cell_type": "code",
   "execution_count": 102,
   "metadata": {},
   "outputs": [],
   "source": [
    "print(freelancers_df['job_completion_rate'])"
   ]
  },
  {
   "cell_type": "code",
   "execution_count": 103,
   "metadata": {},
   "outputs": [
    {
     "name": "stdout",
     "output_type": "stream",
     "text": [
      "0       100.0\n1        97.0\n2       100.0\n3       100.0\n4       100.0\n5       100.0\n6       100.0\n7       100.0\n8        99.0\n9        98.0\n10      100.0\n11       89.0\n12      100.0\n13      100.0\n14       72.0\n15      100.0\n16      100.0\n17       92.0\n18      100.0\n19      100.0\n20      100.0\n21       98.0\n22      100.0\n23       98.0\n24      100.0\n25      100.0\n26       99.0\n27      100.0\n28      100.0\n29      100.0\n        ...  \n3739    100.0\n3740    100.0\n3741     93.0\n3742    100.0\n3743    100.0\n3744     97.0\n3745    100.0\n3746    100.0\n3747    100.0\n3748     87.0\n3749     99.0\n3750    100.0\n3751     99.0\n3752    100.0\n3753    100.0\n3754    100.0\n3755    100.0\n3756    100.0\n3757    100.0\n3758    100.0\n3759    100.0\n3760    100.0\n3761    100.0\n3762    100.0\n3763    100.0\n3764    100.0\n3765    100.0\n3766     99.0\n3767    100.0\n3768     95.0\nName: on_budget_rate, Length: 3769, dtype: float64\n"
     ]
    }
   ],
   "source": [
    "print(freelancers_df['on_budget_rate'])"
   ]
  },
  {
   "cell_type": "code",
   "execution_count": 104,
   "metadata": {},
   "outputs": [],
   "source": [
    "freelancers_df['on_budget_rate'] = freelancers_df['on_budget_rate']/100"
   ]
  },
  {
   "cell_type": "code",
   "execution_count": 105,
   "metadata": {},
   "outputs": [
    {
     "name": "stdout",
     "output_type": "stream",
     "text": [
      "0       1.00\n1       0.97\n2       1.00\n3       1.00\n4       1.00\n5       1.00\n6       1.00\n7       1.00\n8       0.99\n9       0.98\n10      1.00\n11      0.89\n12      1.00\n13      1.00\n14      0.72\n15      1.00\n16      1.00\n17      0.92\n18      1.00\n19      1.00\n20      1.00\n21      0.98\n22      1.00\n23      0.98\n24      1.00\n25      1.00\n26      0.99\n27      1.00\n28      1.00\n29      1.00\n        ... \n3739    1.00\n3740    1.00\n3741    0.93\n3742    1.00\n3743    1.00\n3744    0.97\n3745    1.00\n3746    1.00\n3747    1.00\n3748    0.87\n3749    0.99\n3750    1.00\n3751    0.99\n3752    1.00\n3753    1.00\n3754    1.00\n3755    1.00\n3756    1.00\n3757    1.00\n3758    1.00\n3759    1.00\n3760    1.00\n3761    1.00\n3762    1.00\n3763    1.00\n3764    1.00\n3765    1.00\n3766    0.99\n3767    1.00\n3768    0.95\nName: on_budget_rate, Length: 3769, dtype: float64\n"
     ]
    }
   ],
   "source": [
    "print(freelancers_df['on_budget_rate'])"
   ]
  },
  {
   "cell_type": "code",
   "execution_count": 106,
   "metadata": {},
   "outputs": [],
   "source": [
    "freelancers_df['on_time_rate'] = freelancers_df['on_time_rate']/100"
   ]
  },
  {
   "cell_type": "code",
   "execution_count": 107,
   "metadata": {},
   "outputs": [],
   "source": [
    "print(freelancers_df['on_time_rate'])"
   ]
  },
  {
   "cell_type": "code",
   "execution_count": 108,
   "metadata": {},
   "outputs": [],
   "source": [
    "freelancers_df['repeat_hire_rate'] = freelancers_df['repeat_hire_rate']/100"
   ]
  },
  {
   "cell_type": "code",
   "execution_count": 109,
   "metadata": {},
   "outputs": [
    {
     "name": "stdout",
     "output_type": "stream",
     "text": [
      "0       0.25\n1       0.17\n2       0.25\n3       0.08\n4       0.00\n5       0.19\n6       0.00\n7       0.00\n8       0.09\n9       0.05\n10      0.10\n11      0.03\n12      0.25\n13      0.00\n14      0.06\n15      0.00\n16      0.00\n17      0.36\n18      0.00\n19      0.00\n20      0.20\n21      0.08\n22      0.09\n23      0.20\n24      0.50\n25      0.13\n26      0.18\n27      0.11\n28      0.23\n29      1.00\n        ... \n3739    0.17\n3740    0.00\n3741    0.18\n3742    0.30\n3743    0.08\n3744    0.20\n3745    0.10\n3746    0.00\n3747    0.08\n3748    0.14\n3749    0.26\n3750    0.00\n3751    0.22\n3752    0.25\n3753    0.00\n3754    0.11\n3755    0.19\n3756    0.34\n3757    0.00\n3758    0.00\n3759    0.26\n3760    0.15\n3761    0.00\n3762    0.09\n3763    0.00\n3764    0.11\n3765    0.07\n3766    0.16\n3767    0.00\n3768    0.00\nName: repeat_hire_rate, Length: 3769, dtype: float64\n"
     ]
    }
   ],
   "source": [
    "print(freelancers_df['repeat_hire_rate'])\n"
   ]
  },
  {
   "cell_type": "code",
   "execution_count": 110,
   "metadata": {},
   "outputs": [],
   "source": [
    "freelancers_df['name'] = freelancers_df['name'].map(lambda x: x.strip(','))"
   ]
  },
  {
   "cell_type": "heading",
   "metadata": {},
   "level": 1,
   "source": [
    "Check for duplicates"
   ]
  },
  {
   "cell_type": "code",
   "execution_count": 111,
   "metadata": {},
   "outputs": [
    {
     "data": {
      "text/plain": [
       "0       False\n1       False\n2       False\n3       False\n4       False\n5       False\n6       False\n7       False\n8       False\n9       False\n10      False\n11      False\n12      False\n13      False\n14      False\n15      False\n16      False\n17      False\n18      False\n19      False\n20      False\n21      False\n22      False\n23      False\n24      False\n25      False\n26      False\n27      False\n28      False\n29      False\n        ...  \n3739    False\n3740    False\n3741    False\n3742    False\n3743    False\n3744    False\n3745    False\n3746    False\n3747    False\n3748    False\n3749    False\n3750    False\n3751    False\n3752    False\n3753    False\n3754    False\n3755    False\n3756    False\n3757    False\n3758    False\n3759    False\n3760    False\n3761    False\n3762    False\n3763    False\n3764    False\n3765    False\n3766    False\n3767    False\n3768    False\nLength: 3769, dtype: bool"
      ]
     },
     "execution_count": 111,
     "metadata": {},
     "output_type": "execute_result"
    }
   ],
   "source": [
    "freelancers_df.duplicated()"
   ]
  },
  {
   "cell_type": "code",
   "execution_count": 112,
   "metadata": {},
   "outputs": [],
   "source": [
    "freelancers_df.drop_duplicates()"
   ]
  },
  {
   "cell_type": "code",
   "execution_count": 113,
   "metadata": {},
   "outputs": [
    {
     "name": "stdout",
     "output_type": "stream",
     "text": [
      "   wage  rating  job_completion_rate          name  \\\n0    15     5.0                 1.00        @A1GFX   \n1    20     4.9                 0.98     @AaRTMART   \n2    15     5.0                 1.00  @aarushvarma   \n3     5     4.5                 1.00       @aashus   \n4     7     4.9                 1.00    @AAstudioO   \n\n                                               title  on_budget_rate  \\\n0  A1GFX - Allround Graphic Designer - Netherland...            1.00   \n1  AaRTMART - Quality Guaranteed - Pakistan | Fre...            0.97   \n2  Aarush Varma - Graphic Designers and Illustrat...            1.00   \n3  Aashu  S - SEO, SMM & SEM Expert - India | Fre...            1.00   \n4  Ahsan_Fateh - Customer satisfaction is my main...            1.00   \n\n   on_time_rate  repeat_hire_rate number_of_reviews     location    ...     \\\n0          1.00              0.25         5 reviews  Netherlands    ...      \n1          0.97              0.17       212 reviews     Pakistan    ...      \n2          1.00              0.25        11 reviews        India    ...      \n3          0.84              0.08         7 reviews        India    ...      \n4          1.00              0.00        27 reviews     Pakistan    ...      \n\n             skilks 1     skilks 2        skilks 3       skilks 4  \\\n0      Graphic Design    Photoshop     Illustrator       T-Shirts   \n1      Graphic Design  Logo Design     Illustrator  Banner Design   \n2      Graphic Design  Logo Design       Photoshop    Photography   \n3  Internet Marketing          SEO   Link Building  Photo Editing   \n4         Logo Design     Branding  Website Design    Illustrator   \n\n                  skilks 5               skilks 6          skilks 7  \\\n0            Poster Design  User Interface Design               NaN   \n1           Website Design    User Interface / IA      Illustration   \n2              Illustrator          Photo Editing  Photoshop Design   \n3  Search Engine Marketing                    NaN               NaN   \n4                    Print          Poster Design  Photoshop Design   \n\n             skilks 8 skilks 9 skilks 10  \n0                 NaN      NaN       NaN  \n1  Corporate Identity      PHP      Java  \n2                 NaN      NaN       NaN  \n3                 NaN      NaN       NaN  \n4                 NaN      NaN       NaN  \n\n[5 rows x 21 columns]\n"
     ]
    }
   ],
   "source": [
    "print(freelancers_df.head())"
   ]
  },
  {
   "cell_type": "code",
   "execution_count": 114,
   "metadata": {},
   "outputs": [],
   "source": [
    "freelancers_df.to_csv('C:/Users/Arwa/Desktop/datasets/Freelancers_Data_final_cleaned_sep_16.csv', sep=',')"
   ]
  },
  {
   "cell_type": "code",
   "execution_count": 115,
   "metadata": {},
   "outputs": [],
   "source": []
  },
  {
   "cell_type": "code",
   "execution_count": null,
   "metadata": {},
   "outputs": [],
   "source": []
  }
 ],
 "metadata": {
  "kernelspec": {
   "display_name": "Python 2",
   "language": "python",
   "name": "python2"
  },
  "language_info": {
   "codemirror_mode": {
    "name": "ipython",
    "version": 2
   },
   "file_extension": ".py",
   "mimetype": "text/x-python",
   "name": "python",
   "nbconvert_exporter": "python",
   "pygments_lexer": "ipython2",
   "version": "2.7.6"
  }
 },
 "nbformat": 4,
 "nbformat_minor": 0
}
