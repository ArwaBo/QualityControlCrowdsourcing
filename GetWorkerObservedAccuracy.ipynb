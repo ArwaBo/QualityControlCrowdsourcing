{
 "cells": [
  {
   "cell_type": "code",
   "execution_count": 1,
   "metadata": {
    "collapsed": true
   },
   "outputs": [],
   "source": [
    "import pandas as pd\n",
    "\n",
    "def trimAllColumns(df):\n",
    "    \"\"\"\n",
    "    Trim whitespace from ends of each value across all series in dataframe\n",
    "    \"\"\"\n",
    "    trimStrings = lambda x: x.strip() if type(x) is str else x\n",
    "    return df.applymap(trimStrings)"
   ]
  },
  {
   "cell_type": "code",
   "execution_count": 14,
   "metadata": {},
   "outputs": [],
   "source": [
    "combined_df = pd.read_csv('C:/Users/Arwa/Desktop/datasets/Ex2/jobs_and_freelancers_combined_Ex2.csv')\n",
    "combined_df = trimAllColumns(combined_df)\n",
    "#ake the worker history  -------------------\n",
    "worker_his_df = combined_df.loc[combined_df['name'] ==  \"@AliChorov\"]"
   ]
  },
  {
   "cell_type": "code",
   "execution_count": 15,
   "metadata": {},
   "outputs": [
    {
     "name": "stdout",
     "output_type": "stream",
     "text": [
      "    Unnamed: 0 TaskID Freelancer_Name Freelancer_username  \\\n47          47    t47          Ali K.          @AliChorov   \n48          48    t48          Ali K.          @AliChorov   \n49          49    t49          Ali K.          @AliChorov   \n50          50    t50          Ali K.          @AliChorov   \n51          51    t51          Ali K.          @AliChorov   \n52          52    t52          Ali K.          @AliChorov   \n53          53    t53          Ali K.          @AliChorov   \n54          54    t54          Ali K.          @AliChorov   \n\n    Freelancer_Average_rating_for_all_completed_projects  \\\n47                                                5.0      \n48                                                5.0      \n49                                                5.0      \n50                                                5.0      \n51                                                5.0      \n52                                                5.0      \n53                                                5.0      \n54                                                5.0      \n\n   Freelancer_total_number_of_reviews          Budget 1           Budget 2  \\\n47                        180 reviews               $30               $250   \n48                        180 reviews               $30               $250   \n49                        180 reviews          \\EURO  2      \\EURO  6 / hr   \n50                        180 reviews               $10                NaN   \n51                        180 reviews  \\indian rupee600  \\indian rupee1500   \n52                        180 reviews               $10                $30   \n53                        180 reviews               $10                $30   \n54                        180 reviews            \\xa310             \\xa320   \n\n    Budget 3 Required_Skills 1                 ...                   \\\n47       NaN    Graphic Design                 ...                    \n48       NaN     Banner Design                 ...                    \n49       NaN         3D Design                 ...                    \n50       NaN               CSS                 ...                    \n51       NaN               CSS                 ...                    \n52       NaN             Plgin                 ...                    \n53       NaN             Plgin                 ...                    \n54       NaN             MySQL                 ...                    \n\n         skilks 4 skilks 5      skilks 6   skilks 7       skilks 8   skilks 9  \\\n47  Arts & Crafts      CSS  Illustration  WordPress  Banner Design  Animation   \n48  Arts & Crafts      CSS  Illustration  WordPress  Banner Design  Animation   \n49  Arts & Crafts      CSS  Illustration  WordPress  Banner Design  Animation   \n50  Arts & Crafts      CSS  Illustration  WordPress  Banner Design  Animation   \n51  Arts & Crafts      CSS  Illustration  WordPress  Banner Design  Animation   \n52  Arts & Crafts      CSS  Illustration  WordPress  Banner Design  Animation   \n53  Arts & Crafts      CSS  Illustration  WordPress  Banner Design  Animation   \n54  Arts & Crafts      CSS  Illustration  WordPress  Banner Design  Animation   \n\n         skilks 10   project    Job_Category  \\\n47  Video Services  projects  graphic design   \n48  Video Services  projects  Graphic Design   \n49  Video Services  projects  Graphic Design   \n50  Video Services  projects  Graphic Design   \n51  Video Services  projects             php   \n52  Video Services  projects  Website Design   \n53  Video Services  projects       Wordpress   \n54  Video Services  projects       wordpress   \n\n                              Job_Title  \n47       Customize word press theme for  \n48                        Design Banner  \n49                        Design Banner  \n50                Project for AliChorov  \n51   Modify already developed WordPress  \n52       Wordpress Expert install theme  \n53  install wordpress theme plugins two  \n54                      Web development  \n\n[8 rows x 42 columns]\n"
     ]
    }
   ],
   "source": [
    "print(worker_his_df)"
   ]
  },
  {
   "cell_type": "code",
   "execution_count": 16,
   "metadata": {},
   "outputs": [
    {
     "name": "stdout",
     "output_type": "stream",
     "text": [
      "Job_Category\nGraphic Design    3\nWebsite Design    1\nWordpress         1\ngraphic design    1\nphp               1\nwordpress         1\ndtype: int64\n"
     ]
    }
   ],
   "source": [
    "worker_cat_no_task = worker_his_df.groupby('Job_Category').size()\n",
    "print(worker_cat_no_task)"
   ]
  },
  {
   "cell_type": "code",
   "execution_count": 17,
   "metadata": {},
   "outputs": [
    {
     "name": "stdout",
     "output_type": "stream",
     "text": [
      "3\n"
     ]
    }
   ],
   "source": [
    "TwCat = worker_cat_no_task['Graphic Design']\n",
    "print(TwCat)"
   ]
  },
  {
   "cell_type": "code",
   "execution_count": 18,
   "metadata": {},
   "outputs": [],
   "source": [
    "task_df = pd.read_csv('C:/Users/Arwa/Desktop/datasets/Ex1/Jobs_dataset_tokenized_Ex1.csv')\n",
    "task_df.fillna('')\n",
    "\n",
    "\n",
    "cat_no_task = task_df.groupby('Job_Category').size()\n",
    "\n",
    "Tcat = cat_no_task['Graphic Design']"
   ]
  },
  {
   "cell_type": "code",
   "execution_count": 19,
   "metadata": {},
   "outputs": [
    {
     "name": "stdout",
     "output_type": "stream",
     "text": [
      "3\n"
     ]
    }
   ],
   "source": [
    "print(TwCat)"
   ]
  },
  {
   "cell_type": "code",
   "execution_count": 32,
   "metadata": {
    "collapsed": true
   },
   "outputs": [
    {
     "name": "stdout",
     "output_type": "stream",
     "text": [
      "  TaskID  wage  rating  job_completion_rate       name  \\\n0     t0    20     4.9                 0.98  @AaRTMART   \n1     t1    20     4.9                 0.98  @AaRTMART   \n2     t2    20     4.9                 0.98  @AaRTMART   \n3     t3    20     4.9                 0.98  @AaRTMART   \n4     t4    20     4.9                 0.98  @AaRTMART   \n\n                                               title  on_budget_rate  \\\n0  AaRTMART - Quality Guaranteed - Pakistan | Fre...            0.97   \n1  AaRTMART - Quality Guaranteed - Pakistan | Fre...            0.97   \n2  AaRTMART - Quality Guaranteed - Pakistan | Fre...            0.97   \n3  AaRTMART - Quality Guaranteed - Pakistan | Fre...            0.97   \n4  AaRTMART - Quality Guaranteed - Pakistan | Fre...            0.97   \n\n   on_time_rate  repeat_hire_rate  number_of_reviews ...      skilks 3  \\\n0          0.97              0.17                212 ...   Illustrator   \n1          0.97              0.17                212 ...   Illustrator   \n2          0.97              0.17                212 ...   Illustrator   \n3          0.97              0.17                212 ...   Illustrator   \n4          0.97              0.17                212 ...   Illustrator   \n\n        skilks 4        skilks 5             skilks 6      skilks 7  \\\n0  Banner Design  Website Design  User Interface / IA  Illustration   \n1  Banner Design  Website Design  User Interface / IA  Illustration   \n2  Banner Design  Website Design  User Interface / IA  Illustration   \n3  Banner Design  Website Design  User Interface / IA  Illustration   \n4  Banner Design  Website Design  User Interface / IA  Illustration   \n\n             skilks 8 skilks 9 skilks 10   t0   t1  \n0  Corporate Identity      PHP      Java  0.0  0.0  \n1  Corporate Identity      PHP      Java  0.0  0.0  \n2  Corporate Identity      PHP      Java  0.0  0.0  \n3  Corporate Identity      PHP      Java  0.0  0.0  \n4  Corporate Identity      PHP      Java  0.0  0.0  \n\n[5 rows x 24 columns]\n"
     ]
    }
   ],
   "source": [
    "from GetWorkerObservedAccuracy import Get_Worker_Observed_Accuracy\n",
    "import pandas as pd\n",
    "\n",
    "\n",
    "worker_df = pd.read_csv('C:/Users/Arwa/Desktop/datasets/Ex2/Freelancer_dataset_Ex2.csv')\n",
    "task_df = pd.read_csv('C:/Users/Arwa/Desktop/datasets/Ex2/Jobs_dataset_tokenized_Ex2.csv')\n",
    "\n",
    "for i in range (0,2):\n",
    "    for j in range (0, len(worker_df)):\n",
    "        worker_df.loc[j, task_df.loc[i, 'TaskID']] = 0\n",
    "        \n",
    "\n",
    "        # print('worker =', worker_df.loc[j,'name'],'q =',worker_df.loc[j, task_df.loc[i,'TaskID']])\n",
    "\n",
    "print(worker_df.head())"
   ]
  },
  {
   "cell_type": "code",
   "execution_count": 69,
   "metadata": {
    "collapsed": true
   },
   "outputs": [
    {
     "ename": "ValueError",
     "evalue": "Must have equal len keys and value when setting with an iterable",
     "traceback": [
      "\u001b[0;31m---------------------------------------------------------------------------\u001b[0m",
      "\u001b[0;31mValueError\u001b[0m                                Traceback (most recent call last)",
      "\u001b[0;32m<ipython-input-69-681303484ad3>\u001b[0m in \u001b[0;36m<module>\u001b[0;34m()\u001b[0m\n\u001b[1;32m      9\u001b[0m     \u001b[0;32mfor\u001b[0m \u001b[0mj\u001b[0m \u001b[0;32min\u001b[0m \u001b[0mrange\u001b[0m \u001b[0;34m(\u001b[0m\u001b[0;36m0\u001b[0m\u001b[0;34m,\u001b[0m \u001b[0mlen\u001b[0m\u001b[0;34m(\u001b[0m\u001b[0mworker_df\u001b[0m\u001b[0;34m)\u001b[0m\u001b[0;34m)\u001b[0m\u001b[0;34m:\u001b[0m\u001b[0;34m\u001b[0m\u001b[0m\n\u001b[1;32m     10\u001b[0m         worker_df.loc[j, task_df.loc[i, 'TaskID']] =list(Get_Worker_Observed_Accuracy\n\u001b[0;32m---> 11\u001b[0;31m                                                 (worker_df.loc[j],task_df.loc[i]))\n\u001b[0m\u001b[1;32m     12\u001b[0m \u001b[0;34m\u001b[0m\u001b[0m\n\u001b[1;32m     13\u001b[0m         \u001b[0mprint\u001b[0m\u001b[0;34m(\u001b[0m\u001b[0;34m'worker ='\u001b[0m\u001b[0;34m,\u001b[0m \u001b[0mworker_df\u001b[0m\u001b[0;34m.\u001b[0m\u001b[0mloc\u001b[0m\u001b[0;34m[\u001b[0m\u001b[0mj\u001b[0m\u001b[0;34m,\u001b[0m\u001b[0;34m'name'\u001b[0m\u001b[0;34m]\u001b[0m\u001b[0;34m,\u001b[0m \u001b[0;34m'r ='\u001b[0m\u001b[0;34m)\u001b[0m\u001b[0;34m\u001b[0m\u001b[0m\n",
      "\u001b[0;32mC:\\Users\\Arwa\\PycharmProjects\\QualityControlCrowdsourcing\\venvPy\\lib\\site-packages\\pandas\\core\\indexing.py\u001b[0m in \u001b[0;36m__setitem__\u001b[0;34m(self, key, value)\u001b[0m\n\u001b[1;32m    192\u001b[0m             \u001b[0mkey\u001b[0m \u001b[0;34m=\u001b[0m \u001b[0mcom\u001b[0m\u001b[0;34m.\u001b[0m\u001b[0m_apply_if_callable\u001b[0m\u001b[0;34m(\u001b[0m\u001b[0mkey\u001b[0m\u001b[0;34m,\u001b[0m \u001b[0mself\u001b[0m\u001b[0;34m.\u001b[0m\u001b[0mobj\u001b[0m\u001b[0;34m)\u001b[0m\u001b[0;34m\u001b[0m\u001b[0m\n\u001b[1;32m    193\u001b[0m         \u001b[0mindexer\u001b[0m \u001b[0;34m=\u001b[0m \u001b[0mself\u001b[0m\u001b[0;34m.\u001b[0m\u001b[0m_get_setitem_indexer\u001b[0m\u001b[0;34m(\u001b[0m\u001b[0mkey\u001b[0m\u001b[0;34m)\u001b[0m\u001b[0;34m\u001b[0m\u001b[0m\n\u001b[0;32m--> 194\u001b[0;31m         \u001b[0mself\u001b[0m\u001b[0;34m.\u001b[0m\u001b[0m_setitem_with_indexer\u001b[0m\u001b[0;34m(\u001b[0m\u001b[0mindexer\u001b[0m\u001b[0;34m,\u001b[0m \u001b[0mvalue\u001b[0m\u001b[0;34m)\u001b[0m\u001b[0;34m\u001b[0m\u001b[0m\n\u001b[0m\u001b[1;32m    195\u001b[0m \u001b[0;34m\u001b[0m\u001b[0m\n\u001b[1;32m    196\u001b[0m     \u001b[0;32mdef\u001b[0m \u001b[0m_has_valid_type\u001b[0m\u001b[0;34m(\u001b[0m\u001b[0mself\u001b[0m\u001b[0;34m,\u001b[0m \u001b[0mk\u001b[0m\u001b[0;34m,\u001b[0m \u001b[0maxis\u001b[0m\u001b[0;34m)\u001b[0m\u001b[0;34m:\u001b[0m\u001b[0;34m\u001b[0m\u001b[0m\n",
      "\u001b[0;32mC:\\Users\\Arwa\\PycharmProjects\\QualityControlCrowdsourcing\\venvPy\\lib\\site-packages\\pandas\\core\\indexing.py\u001b[0m in \u001b[0;36m_setitem_with_indexer\u001b[0;34m(self, indexer, value)\u001b[0m\n\u001b[1;32m    359\u001b[0m                         new_indexer = convert_from_missing_indexer_tuple(\n\u001b[1;32m    360\u001b[0m                             indexer, self.obj.axes)\n\u001b[0;32m--> 361\u001b[0;31m                         \u001b[0mself\u001b[0m\u001b[0;34m.\u001b[0m\u001b[0m_setitem_with_indexer\u001b[0m\u001b[0;34m(\u001b[0m\u001b[0mnew_indexer\u001b[0m\u001b[0;34m,\u001b[0m \u001b[0mvalue\u001b[0m\u001b[0;34m)\u001b[0m\u001b[0;34m\u001b[0m\u001b[0m\n\u001b[0m\u001b[1;32m    362\u001b[0m \u001b[0;34m\u001b[0m\u001b[0m\n\u001b[1;32m    363\u001b[0m                         \u001b[0;32mreturn\u001b[0m \u001b[0mself\u001b[0m\u001b[0;34m.\u001b[0m\u001b[0mobj\u001b[0m\u001b[0;34m\u001b[0m\u001b[0m\n",
      "\u001b[0;32mC:\\Users\\Arwa\\PycharmProjects\\QualityControlCrowdsourcing\\venvPy\\lib\\site-packages\\pandas\\core\\indexing.py\u001b[0m in \u001b[0;36m_setitem_with_indexer\u001b[0;34m(self, indexer, value)\u001b[0m\n\u001b[1;32m    597\u001b[0m \u001b[0;34m\u001b[0m\u001b[0m\n\u001b[1;32m    598\u001b[0m                     \u001b[0;32mif\u001b[0m \u001b[0mlen\u001b[0m\u001b[0;34m(\u001b[0m\u001b[0mlabels\u001b[0m\u001b[0;34m)\u001b[0m \u001b[0;34m!=\u001b[0m \u001b[0mlen\u001b[0m\u001b[0;34m(\u001b[0m\u001b[0mvalue\u001b[0m\u001b[0;34m)\u001b[0m\u001b[0;34m:\u001b[0m\u001b[0;34m\u001b[0m\u001b[0m\n\u001b[0;32m--> 599\u001b[0;31m                         raise ValueError('Must have equal len keys and value '\n\u001b[0m\u001b[1;32m    600\u001b[0m                                          'when setting with an iterable')\n\u001b[1;32m    601\u001b[0m \u001b[0;34m\u001b[0m\u001b[0m\n",
      "\u001b[0;31mValueError\u001b[0m: Must have equal len keys and value when setting with an iterable"
     ],
     "output_type": "error"
    }
   ],
   "source": [
    "from GetWorkerObservedAccuracy import Get_Worker_Observed_Accuracy\n",
    "import pandas as pd\n",
    "\n",
    "\n",
    "worker_df = pd.read_csv('C:/Users/Arwa/Desktop/datasets/Ex2/Freelancer_dataset_Ex2.csv')\n",
    "task_df = pd.read_csv('C:/Users/Arwa/Desktop/datasets/Ex2/Jobs_dataset_tokenized_Ex2.csv')\n",
    "\n",
    "for i in range (0,2):\n",
    "    for j in range (0, len(worker_df)):\n",
    "        worker_df.loc[j, task_df.loc[i, 'TaskID']] =\\\n",
    "        r =list(Get_Worker_Observed_Accuracy\n",
    "                                                (worker_df.loc[j],task_df.loc[i]))\n",
    "        \n",
    "        print('worker =', worker_df.loc[j,'name'], 'r =')\n",
    "\n",
    "            "
   ]
  },
  {
   "cell_type": "code",
   "execution_count": 87,
   "metadata": {},
   "outputs": [
    {
     "name": "stdout",
     "output_type": "stream",
     "text": [
      "(0, 't25')\nTaskID                  object\nwage                     int64\nrating                 float64\njob_completion_rate    float64\nname                    object\ntitle                   object\non_budget_rate         float64\non_time_rate           float64\nrepeat_hire_rate       float64\nnumber_of_reviews        int64\nlocation                object\neducation               object\nskilks 1                object\nskilks 2                object\nskilks 3                object\nskilks 4                object\nskilks 5                object\nskilks 6                object\nskilks 7                object\nskilks 8                object\nskilks 9                object\nskilks 10               object\nttttt                  float64\ndtype: object\n"
     ]
    }
   ],
   "source": [
    "from GetWorkerObservedAccuracy import Get_Worker_Observed_Accuracy\n",
    "import pandas as pd\n",
    "\n",
    "\n",
    "worker_df = pd.read_csv('C:/Users/Arwa/Desktop/datasets/Ex2/Freelancer_dataset_Ex2.csv')\n",
    "task_df = pd.read_csv('C:/Users/Arwa/Desktop/datasets/Ex2/Jobs_dataset_tokenized_Ex2.csv')\n",
    "\n",
    "\n",
    "r = Get_Worker_Observed_Accuracy(worker_df.loc[12],task_df.loc[25])\n",
    "print(r)   \n",
    "worker_df.loc[1,'ttttt'] = r[0] \n",
    "\n",
    "\n",
    "print(worker_df.dtypes)     \n",
    "\n",
    "        # print('worker =', worker_df.loc[j,'name'],'q =',worker_df.loc[j, task_df.loc[i,'TaskID']])\n"
   ]
  },
  {
   "cell_type": "code",
   "execution_count": null,
   "metadata": {},
   "outputs": [],
   "source": []
  }
 ],
 "metadata": {
  "kernelspec": {
   "display_name": "Python 2",
   "language": "python",
   "name": "python2"
  },
  "language_info": {
   "codemirror_mode": {
    "name": "ipython",
    "version": 2
   },
   "file_extension": ".py",
   "mimetype": "text/x-python",
   "name": "python",
   "nbconvert_exporter": "python",
   "pygments_lexer": "ipython2",
   "version": "2.7.6"
  }
 },
 "nbformat": 4,
 "nbformat_minor": 0
}
