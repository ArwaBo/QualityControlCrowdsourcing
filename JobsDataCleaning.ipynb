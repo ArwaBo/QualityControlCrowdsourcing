{
 "cells": [
  {
   "cell_type": "code",
   "execution_count": 6,
   "metadata": {
    "collapsed": true
   },
   "outputs": [],
   "source": [
    "import matplotlib.pyplot as plt\n",
    "import pandas as pd\n",
    "import numpy as np\n",
    "%matplotlib inline"
   ]
  },
  {
   "cell_type": "code",
   "execution_count": 7,
   "metadata": {},
   "outputs": [],
   "source": [
    "# jobs freelancers data \n",
    "jobs_df = pd.read_csv('C:/Users/Arwa/Desktop/datasets/jobs_data_budget_split.csv')"
   ]
  },
  {
   "cell_type": "code",
   "execution_count": 6,
   "metadata": {},
   "outputs": [
    {
     "name": "stdout",
     "output_type": "stream",
     "text": [
      "Freelancer_Name                               object\nFreelancer_username                           object\nAverage_rating_for_all_completed_projects    float64\ntotall_number_reviews                         object\nBudget 1                                      object\nBudget 2                                      object\nBudget 3                                      object\nRequired_Skills 1                             object\nRequired_Skills 2                             object\nRequired_Skills 3                             object\nRequired_Skills 4                             object\nRequired_Skills 5                             object\nStatus                                        object\nJob_url                                       object\naverage_employer_rating_by_freelancers       float64\ndtype: object\n"
     ]
    }
   ],
   "source": [
    "print(jobs_df.dtypes)"
   ]
  },
  {
   "cell_type": "heading",
   "metadata": {},
   "level": 4,
   "source": [
    "1- delete white spaces from all data "
   ]
  },
  {
   "cell_type": "code",
   "execution_count": 13,
   "metadata": {},
   "outputs": [],
   "source": [
    "def trimAllColumns(df):\n",
    "    \"\"\"\n",
    "    Trim whitespace from ends of each value across all series in dataframe\n",
    "    \"\"\"\n",
    "    trimStrings = lambda x: x.strip() if type(x) is str else x\n",
    "    return df.applymap(trimStrings)\n",
    "\n",
    "\n",
    "jobs_df = trimAllColumns(jobs_df)"
   ]
  },
  {
   "cell_type": "heading",
   "metadata": {},
   "level": 5,
   "source": [
    "2- Cleaning Budget "
   ]
  },
  {
   "cell_type": "heading",
   "metadata": {},
   "level": 3,
   "source": [
    "2.1 taking the maximum budget from a range and the only budget if no range  into one column \"Budget\""
   ]
  },
  {
   "cell_type": "code",
   "execution_count": 15,
   "metadata": {
    "collapsed": false
   },
   "outputs": [],
   "source": [
    "final_budget = []\n",
    "for i in range(0, len(jobs_df)):\n",
    "    if pd.isnull(jobs_df['Budget 2'][i]):\n",
    "        final_budget.append(jobs_df['Budget 1'][i])\n",
    "    else: \n",
    "        final_budget.append(jobs_df['Budget 2'][i])\n",
    "\n",
    "jobs_df['Budget'] = final_budget"
   ]
  },
  {
   "cell_type": "code",
   "execution_count": 16,
   "metadata": {
    "collapsed": false
   },
   "outputs": [],
   "source": [
    "jobs_df.to_csv('C:/Users/Arwa/Desktop/datasets/jobs_Data_budget_one_column.csv', sep=',')"
   ]
  },
  {
   "cell_type": "heading",
   "metadata": {},
   "level": 4,
   "source": [
    "1.2 excluding the budget that were /hr "
   ]
  },
  {
   "cell_type": "code",
   "execution_count": 17,
   "metadata": {},
   "outputs": [],
   "source": [
    "jobs_df = pd.read_csv('C:/Users/Arwa/Desktop/datasets/jobs_Data_budget_one_column.csv')"
   ]
  },
  {
   "cell_type": "code",
   "execution_count": 20,
   "metadata": {},
   "outputs": [],
   "source": [
    "def trimAllColumns(df):\n",
    "    \"\"\"\n",
    "    Trim whitespace from ends of each value across all series in dataframe\n",
    "    \"\"\"\n",
    "    trimStrings = lambda x: x.strip() if type(x) is str else x\n",
    "    return df.applymap(trimStrings)\n",
    "\n",
    "\n",
    "jobs_df = trimAllColumns(jobs_df)"
   ]
  },
  {
   "cell_type": "code",
   "execution_count": 21,
   "metadata": {},
   "outputs": [
    {
     "name": "stdout",
     "output_type": "stream",
     "text": [
      "Unnamed: 0                                     int64\nFreelancer_Name                               object\nFreelancer_username                           object\nAverage_rating_for_all_completed_projects    float64\ntotall_number_reviews                         object\nBudget 1                                      object\nBudget 2                                      object\nBudget 3                                      object\nRequired_Skills 1                             object\nRequired_Skills 2                             object\nRequired_Skills 3                             object\nRequired_Skills 4                             object\nRequired_Skills 5                             object\nStatus                                        object\nJob_url                                       object\naverage_employer_rating_by_freelancers       float64\nBudget                                        object\ndtype: object\n"
     ]
    }
   ],
   "source": [
    "print(jobs_df.dtypes)"
   ]
  },
  {
   "cell_type": "code",
   "execution_count": 37,
   "metadata": {},
   "outputs": [
    {
     "name": "stdout",
     "output_type": "stream",
     "text": [
      "$30\nyes\n$30\nyes\n$250\nyes\n$25 / hr\nyes\n$30\nyes\n$30\nyes\n$30\nyes\n$50\nyes\n$30\nyes\n$250\nyes\n$7 / hr\nyes\n$8 / hr\nyes\n$750\nyes\n$250\nyes\n$8 / hr\nyes\n$30\nyes\n$90\nyes\n$90\nyes\n$20\nyes\n$90\nyes\n$30\nyes\n$250\nyes\n$40\nyes\n$60\nyes\n$8 / hr\nyes\n$250\nyes\n$30\nyes\n$30\nyes\n$250\nyes\n$250\nyes\n$8 / hr\nyes\n$3750\nyes\n$30\nyes\n$250\nyes\n$100\nyes\n$250\nyes\n$30\nyes\n$20\nyes\n$20\nyes\n$30\nyes\n$100\nyes\n$300\nyes\n$150\nyes\n$33\nyes\n$10\nyes\n$100\nyes\n$100\nyes\n$33\nyes\n$500\nyes\n$20 / hr\nyes\n$100\nyes\n$30\nyes\n$250\nyes\n$250\nyes\n$250\nyes\n$25 / hr\nyes\n$8 / hr\nyes\n$8 / hr\nyes\n$250\nyes\n$350\nyes\n$1500\nyes\n$25 / hr\nyes\n$50\nyes\n$30\nyes\n$250\nyes\n$30\nyes\n$30\nyes\n$250\nyes\n$250\nyes\n$30\nyes\n$250\nyes\n$125\nyes\n$120\nyes\n$10\nyes\n$8 / hr\nyes\n$100\nyes\n$250\nyes\n$150\nyes\n$250\nyes\n$30\nyes\n$10\nyes\n$15\nyes\n$30\nyes\n$250\nyes\n$750\nyes\n$5 / hr\nyes\n$50\nyes\n$30\nyes\n$250\nyes\n$30\nyes\n$250\nyes\n$30\nyes\n$250\nyes\n$30\nyes\n$750\nyes\n$200\nyes\n$30\nyes\n$10\nyes\n$30\nyes\n$30\nyes\n$250\nyes\n$750\nyes\n$250\nyes\n$250\nyes\n$250\nyes\n$1300\nyes\n$750\nyes\n$750K\nyes\n$250\nyes\n$30\nyes\n$250\nyes\n$50\nyes\n$250\nyes\n$8 / hr\nyes\n$250\nyes\n$8 / hr\nyes\n$750\nyes\n$250\nyes\n$750\nyes\n$30\nyes\n$30\nyes\n$750\nyes\n$100\nyes\n$50\nyes\n$1500\nyes\n$30\nyes\n$10\nyes\n$15 / hr\nyes\n$250\nyes\n$750\nyes\n$500\nyes\n$600\nyes\n$166\nyes\n$300\nyes\n$50\nyes\n$24\nyes\n$100\nyes\n$50\nyes\n$250\nyes\n$70\nyes\n$30\nyes\n$100\nyes\n$350\nyes\n$12\nyes\n$55\nyes\n$168\nyes\n$30\nyes\n$20\nyes\n$10 / hr\nyes\n$250\nyes\n$15\nyes\n$250\nyes\n$1500\nyes\n$20\nyes\n$20\nyes\n$750\nyes\n$110\nyes\n$8 / hr\nyes\n$250\nyes\n$30\nyes\n$150\nyes\n$750\nyes\n$250\nyes\n$30\nyes\n$50\nyes\n$750\nyes\n$750\nyes\n$50\nyes\n$250\nyes\n$15 / hr\nyes\n$10\nyes\n$30\nyes\n$30\nyes\n$222\nyes\n$30\nyes\nBrazilian real$750\nyes\n$250\nyes\n$250\nyes\n$50\nyes\n$250\nyes\n$55\nyes\n$250\nyes\n$30\nyes\n$20\nyes\n$150\nyes\n$40\nyes\n$30\nyes\n$250\nyes\n$400\nyes\n"
     ]
    },
    {
     "ename": "TypeError",
     "evalue": "argument of type 'float' is not iterable",
     "traceback": [
      "\u001b[0;31m---------------------------------------------------------------------------\u001b[0m",
      "\u001b[0;31mTypeError\u001b[0m                                 Traceback (most recent call last)",
      "\u001b[0;32m<ipython-input-37-29e961a8247f>\u001b[0m in \u001b[0;36m<module>\u001b[0;34m()\u001b[0m\n\u001b[1;32m      1\u001b[0m \u001b[0;32mfor\u001b[0m \u001b[0mi\u001b[0m \u001b[0;32min\u001b[0m \u001b[0mrange\u001b[0m\u001b[0;34m(\u001b[0m\u001b[0;36m0\u001b[0m\u001b[0;34m,\u001b[0m\u001b[0mlen\u001b[0m\u001b[0;34m(\u001b[0m\u001b[0mjobs_df\u001b[0m\u001b[0;34m)\u001b[0m\u001b[0;34m)\u001b[0m\u001b[0;34m:\u001b[0m\u001b[0;34m\u001b[0m\u001b[0m\n\u001b[0;32m----> 2\u001b[0;31m     \u001b[0;32mif\u001b[0m \u001b[0;34m\"$\"\u001b[0m \u001b[0;32min\u001b[0m \u001b[0mjobs_df\u001b[0m\u001b[0;34m[\u001b[0m\u001b[0;34m'Budget'\u001b[0m\u001b[0;34m]\u001b[0m\u001b[0;34m[\u001b[0m\u001b[0mi\u001b[0m\u001b[0;34m]\u001b[0m\u001b[0;34m:\u001b[0m\u001b[0;34m\u001b[0m\u001b[0m\n\u001b[0m\u001b[1;32m      3\u001b[0m         \u001b[0mprint\u001b[0m\u001b[0;34m(\u001b[0m\u001b[0mjobs_df\u001b[0m\u001b[0;34m[\u001b[0m\u001b[0;34m'Budget'\u001b[0m\u001b[0;34m]\u001b[0m\u001b[0;34m[\u001b[0m\u001b[0mi\u001b[0m\u001b[0;34m]\u001b[0m\u001b[0;34m)\u001b[0m\u001b[0;34m\u001b[0m\u001b[0m\n\u001b[1;32m      4\u001b[0m         \u001b[0mprint\u001b[0m\u001b[0;34m(\u001b[0m\u001b[0;34m'yes'\u001b[0m\u001b[0;34m)\u001b[0m\u001b[0;34m\u001b[0m\u001b[0m\n",
      "\u001b[0;31mTypeError\u001b[0m: argument of type 'float' is not iterable"
     ],
     "output_type": "error"
    }
   ],
   "source": [
    "for i in range(0,len(jobs_df)):\n",
    "    if \"$\" in jobs_df['Budget'][i]:\n",
    "        print(jobs_df['Budget'][i]) \n",
    "        print('yes')"
   ]
  },
  {
   "cell_type": "heading",
   "metadata": {},
   "level": 4,
   "source": [
    "1.3 converting currency "
   ]
  },
  {
   "cell_type": "heading",
   "metadata": {},
   "level": 4,
   "source": [
    "",
    "\n",
    "1.3.finds currencies"
   ]
  },
  {
   "cell_type": "code",
   "execution_count": 121,
   "metadata": {
    "collapsed": false
   },
   "outputs": [
    {
     "data": {
      "text/plain": [
       "dict_keys(['$1,000', '$1,040', '$1,100', '$1,200', '$1,300', '$1,400', '$1,500', '$1,600', '$1,925', '$10', '$100', '$1000', '$10000', '$103', '$105', '$106', '$1088', '$11', '$110', '$111', '$11250', '$115', '$12', '$120', '$12000', '$122', '$122.50', '$123', '$124', '$125', '$125K', '$128', '$129', '$13', '$130', '$1300', '$131', '$132', '$135', '$14', '$140', '$143', '$144', '$145', '$146', '$147', '$15', '$150', '$1500', '$15000', '$152', '$155', '$16', '$160', '$165', '$166', '$167', '$168', '$17', '$170', '$1700', '$175', '$1750', '$176', '$177', '$18', '$180', '$1800', '$185', '$188', '$189', '$19', '$190', '$1900', '$192', '$197', '$2,000', '$2,500', '$20', '$200', '$2000', '$21', '$210', '$211', '$215', '$22', '$22.34', '$220', '$222', '$225', '$22500', '$23', '$230', '$235', '$238', '$24', '$240', '$2400', '$25', '$250', '$2500', '$257', '$26', '$260', '$264', '$265', '$27', '$270', '$2718', '$275', '$276', '$277', '$28', '$280', '$285', '$290', '$293', '$3,380', '$30', '$300', '$3000', '$305', '$32', '$320', '$33', '$330', '$334', '$335', '$336', '$34', '$340', '$35', '$350', '$360', '$370', '$375', '$3750', '$375K', '$38', '$380', '$385', '$386', '$388', '$39', '$394', '$40', '$400', '$4000', '$412', '$42', '$42.50', '$420', '$4200', '$435', '$44', '$444', '$45', '$450', '$46', '$460', '$48', '$480', '$485', '$49', '$490', '$5', '$5,000', '$50', '$500', '$5000', '$51', '$52', '$52.47', '$53', '$54', '$55', '$550', '$555', '$56', '$57', '$58', '$580', '$590', '$60', '$600', '$6000', '$62', '$625', '$63', '$630', '$64', '$65', '$66', '$68', '$69', '$695', '$70', '$700', '$72', '$73', '$75', '$750', '$750K', '$76', '$77', '$770', '$78', '$80', '$800', '$825', '$829', '$837', '$84', '$840', '$85', '$850', '$88', '$884', '$897', '$90', '$900', '$940', '$95', '$950', '$96', '$960', '$970', '$98', '$999', '1', '300', '350', 'Brazilian real$100', 'Brazilian real$120', 'Brazilian real$150', 'Brazilian real$200', 'Brazilian real$2250', 'Brazilian real$30', 'Brazilian real$330', 'Brazilian real$40', 'Brazilian real$45', 'Brazilian real$500', 'Brazilian real$55', 'Brazilian real$60', 'Brazilian real$63', 'Brazilian real$65', 'Brazilian real$700', 'Brazilian real$750', 'Brazilian real$80', 'Brazilian real$90', 'Brazilian real100', 'Brazilian real1750', 'Brazilian real2000', 'Brazilian real210', 'Brazilian real250', 'Brazilian real3200', 'Brazilian real375', 'Brazilian real500', 'Brazilian real5250', 'Brazilian real700', 'Brazilian realM100', 'Brazilian realM2475', 'Brazilian realM2500', 'Brazilian realM300', 'Brazilian realM45', 'Brazilian realM64', 'Brazilian realM700', 'Brazilian realM825', 'Brazilian realM99', 'Brazilian realM9900', 'Brazilian realp200000', 'Brazilian realp270000', 'Brazilian realp300000', 'Brazilian realp300K', 'Brazilian realp3M', 'Brazilian realp5M', '\\\\20ab6M', '\\\\20ab700K', '\\\\20b110000', '\\\\20b11025', '\\\\20b11200', '\\\\20b12000', '\\\\20b12500', '\\\\EURO  10', '\\\\EURO  100', '\\\\EURO  105', '\\\\EURO  110', '\\\\EURO  12', '\\\\EURO  120', '\\\\EURO  126', '\\\\EURO  127', '\\\\EURO  13', '\\\\EURO  130', '\\\\EURO  133', '\\\\EURO  13463', '\\\\EURO  135', '\\\\EURO  14', '\\\\EURO  15', '\\\\EURO  150', '\\\\EURO  1500', '\\\\EURO  16', '\\\\EURO  160', '\\\\EURO  162', '\\\\EURO  175', '\\\\EURO  18 / hr', '\\\\EURO  180', '\\\\EURO  20', '\\\\EURO  20 / hr', '\\\\EURO  200', '\\\\EURO  210', '\\\\EURO  219', '\\\\EURO  220', '\\\\EURO  222', '\\\\EURO  24', '\\\\EURO  25', '\\\\EURO  250', '\\\\EURO  255', '\\\\EURO  260', '\\\\EURO  265', '\\\\EURO  27', '\\\\EURO  275', '\\\\EURO  280', '\\\\EURO  293', '\\\\EURO  30', '\\\\EURO  300', '\\\\EURO  3000', '\\\\EURO  339', '\\\\EURO  34', '\\\\EURO  340', '\\\\EURO  35', '\\\\EURO  350', '\\\\EURO  360', '\\\\EURO  370', '\\\\EURO  40', '\\\\EURO  400', '\\\\EURO  45', '\\\\EURO  50', '\\\\EURO  500', '\\\\EURO  5000', '\\\\EURO  51', '\\\\EURO  55', '\\\\EURO  550', '\\\\EURO  60', '\\\\EURO  680', '\\\\EURO  70', '\\\\EURO  73', '\\\\EURO  75', '\\\\EURO  750', '\\\\EURO  8', '\\\\EURO  80', '\\\\EURO  800', '\\\\EURO  85', '\\\\EURO  90', '\\\\EURO  920', '\\\\EURO  95', '\\\\ffe51000', '\\\\ffe512000', '\\\\ffe52000', '\\\\ffe5240', '\\\\ffe524000', '\\\\indian rupee1000', '\\\\indian rupee10000', '\\\\indian rupee1100', '\\\\indian rupee11500', '\\\\indian rupee1200', '\\\\indian rupee1250', '\\\\indian rupee12500', '\\\\indian rupee1300', '\\\\indian rupee13000', '\\\\indian rupee1400', '\\\\indian rupee1500', '\\\\indian rupee15000', '\\\\indian rupee150K', '\\\\indian rupee1600', '\\\\indian rupee16000', '\\\\indian rupee16023', '\\\\indian rupee16036', '\\\\indian rupee1700', '\\\\indian rupee18000', '\\\\indian rupee2000', '\\\\indian rupee20000', '\\\\indian rupee22000', '\\\\indian rupee2250', '\\\\indian rupee2500', '\\\\indian rupee25000', '\\\\indian rupee250K', '\\\\indian rupee2700', '\\\\indian rupee3000', '\\\\indian rupee3500', '\\\\indian rupee35000', '\\\\indian rupee3600', '\\\\indian rupee3685', '\\\\indian rupee37500', '\\\\indian rupee4000', '\\\\indian rupee4200', '\\\\indian rupee4300', '\\\\indian rupee5000', '\\\\indian rupee600', '\\\\indian rupee6000', '\\\\indian rupee60000', '\\\\indian rupee61855', '\\\\indian rupee640', '\\\\indian rupee650', '\\\\indian rupee680', '\\\\indian rupee700', '\\\\indian rupee7000', '\\\\indian rupee750', '\\\\indian rupee75000', '\\\\indian rupee8000', '\\\\indian rupee8850', '\\\\indian rupee900', '\\\\indian rupee9000', '\\\\xa310', '\\\\xa3100', '\\\\xa3110', '\\\\xa312', '\\\\xa3120', '\\\\xa3125', '\\\\xa314', '\\\\xa3146', '\\\\xa315', '\\\\xa3150', '\\\\xa31500', '\\\\xa316', '\\\\xa3175', '\\\\xa320', '\\\\xa3200', '\\\\xa32000', '\\\\xa323', '\\\\xa325', '\\\\xa3250', '\\\\xa326.6', '\\\\xa330', '\\\\xa3300', '\\\\xa33000', '\\\\xa332', '\\\\xa335', '\\\\xa3350', '\\\\xa340', '\\\\xa344', '\\\\xa345', '\\\\xa350', '\\\\xa3500', '\\\\xa355', '\\\\xa360', '\\\\xa365', '\\\\xa368', '\\\\xa370', '\\\\xa372', '\\\\xa375', '\\\\xa3750', '\\\\xa380', '\\\\xa3800', '\\\\xa3900', '\\\\xa525000', '\\\\xa53000', '\\\\xa55000', '\\\\xa575000', '\\\\xa590000', 'kr10000', 'kr1150', 'kr1600', 'kr192', 'kr4800', 'kr700', 'min $5000', 'min z\\\\014210', 'z\\\\0142112', 'z\\\\01421458', 'z\\\\01422250', 'z\\\\0142250', 'z\\\\01422646', 'z\\\\0142300', 'z\\\\014250', 'z\\\\0142500', 'z\\\\014265', 'z\\\\0142750', 'z\\\\014290'])"
      ]
     },
     "execution_count": 121,
     "metadata": {},
     "output_type": "execute_result"
    }
   ],
   "source": [
    "jobs_df.groupby(['Budget']).groups.keys()"
   ]
  },
  {
   "cell_type": "code",
   "execution_count": 1,
   "metadata": {},
   "outputs": [],
   "source": [
    "final_budget = []\n",
    "for i in range(0, len(jobs_df)):\n",
    "    if 'Brazilian real$'in (jobs_df['Budget']):\n",
    "        jobs_df['Budget'].\n",
    "        final_budget.append(jobs_df['Budget'][i])\n",
    "    else: \n",
    "        final_budget.append(jobs_df['Budget 2'][i])\n",
    "\n",
    "jobs_df['final_Budget'] = final_budget\n"
   ]
  },
  {
   "cell_type": "code",
   "execution_count": null,
   "metadata": {},
   "outputs": [],
   "source": []
  }
 ],
 "metadata": {
  "kernelspec": {
   "display_name": "Python 2",
   "language": "python",
   "name": "python2"
  },
  "language_info": {
   "codemirror_mode": {
    "name": "ipython",
    "version": 2
   },
   "file_extension": ".py",
   "mimetype": "text/x-python",
   "name": "python",
   "nbconvert_exporter": "python",
   "pygments_lexer": "ipython2",
   "version": "2.7.6"
  }
 },
 "nbformat": 4,
 "nbformat_minor": 0
}
