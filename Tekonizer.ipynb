{
 "cells": [
  {
   "cell_type": "code",
   "execution_count": 1,
   "metadata": {
    "collapsed": true
   },
   "outputs": [],
   "source": [
    "from urllib.parse import urlparse\n",
    "import pandas as pd"
   ]
  },
  {
   "cell_type": "code",
   "execution_count": 83,
   "metadata": {},
   "outputs": [],
   "source": [
    "combined_df = pd.read_csv('C:/Users/Arwa/Desktop/datasets/Ex1/jobs_and_freelancers_combined_Ex1.csv')"
   ]
  },
  {
   "cell_type": "code",
   "execution_count": 84,
   "metadata": {},
   "outputs": [
    {
     "name": "stdout",
     "output_type": "stream",
     "text": [
      "TaskID                                                   object\nFreelancer_Name                                          object\nFreelancer_username                                      object\nFreelancer_Average_rating_for_all_completed_projects    float64\nFreelancer_total_number_of_reviews                       object\nBudget 1                                                 object\nBudget 2                                                 object\nBudget 3                                                float64\nRequired_Skills 1                                        object\nRequired_Skills 2                                        object\nRequired_Skills 3                                        object\nRequired_Skills 4                                        object\nRequired_Skills 5                                        object\njob_Status                                               object\nJob_url                                                  object\naverage_employer_rating_by_freelancers                  float64\nJob_Budget                                               object\nwage                                                      int64\nrating                                                  float64\njob_completion_rate                                     float64\nname                                                     object\ntitle                                                    object\non_budget_rate                                          float64\non_time_rate                                            float64\nrepeat_hire_rate                                        float64\nnumber_of_reviews                                        object\nlocation                                                 object\neducation                                                object\nskilks 1                                                 object\nskilks 2                                                 object\nskilks 3                                                 object\nskilks 4                                                 object\nskilks 5                                                 object\nskilks 6                                                 object\nskilks 7                                                 object\nskilks 8                                                 object\nskilks 9                                                 object\nskilks 10                                                object\ndtype: object\n"
     ]
    }
   ],
   "source": [
    "print(combined_df.dtypes)"
   ]
  },
  {
   "cell_type": "code",
   "execution_count": 94,
   "metadata": {},
   "outputs": [],
   "source": [
    "for i in range (0, len(combined_df)):\n",
    "    url =  urlparse(combined_df.loc[i,'Job_url'])\n",
    "    url = url.path\n",
    "    url = url.split(\"/\")\n",
    "    combined_df.loc[i,'project'] = url[1]\n",
    "    url[2] = url[2].replace(\"-\",\" \")   \n",
    "    combined_df.loc[i,'Job_Category'] = url[2]\n",
    "    url[3] = url[3].strip(\",0,1,2,3,4,5,6,7,8,9,-\")\n",
    "    url[3] = url[3].replace(\"-\",\" \")\n",
    "    \n",
    "    combined_df.loc[i,'Job_Title'] = url[3]"
   ]
  },
  {
   "cell_type": "code",
   "execution_count": 95,
   "metadata": {},
   "outputs": [],
   "source": [
    "combined_df.to_csv('C:/Users/Arwa/Desktop/datasets/Ex1/'\n",
    "                   'jobs_and_freelancers_combined_tokenized_Ex1.csv')"
   ]
  },
  {
   "cell_type": "heading",
   "metadata": {},
   "level": 3,
   "source": [
    "# for files in Ex2 "
   ]
  },
  {
   "cell_type": "code",
   "execution_count": 96,
   "metadata": {},
   "outputs": [],
   "source": [
    "combined_df = pd.read_csv('C:/Users/Arwa/Desktop/datasets/Ex2/jobs_and_freelancers_combined_Ex2.csv')"
   ]
  },
  {
   "cell_type": "code",
   "execution_count": 97,
   "metadata": {},
   "outputs": [],
   "source": [
    "for i in range (0, len(combined_df)):\n",
    "    url =  urlparse(combined_df.loc[i,'Job_url'])\n",
    "    url = url.path\n",
    "    url = url.split(\"/\")\n",
    "    combined_df.loc[i,'project'] = url[1]\n",
    "    url[2] = url[2].replace(\"-\",\" \")   \n",
    "    combined_df.loc[i,'Job_Category'] = url[2]\n",
    "    url[3] = url[3].strip(\",0,1,2,3,4,5,6,7,8,9,-\")\n",
    "    url[3] = url[3].replace(\"-\",\" \")\n",
    "    \n",
    "    combined_df.loc[i,'Job_Title'] = url[3]"
   ]
  },
  {
   "cell_type": "code",
   "execution_count": 98,
   "metadata": {},
   "outputs": [],
   "source": [
    "combined_df.to_csv('C:/Users/Arwa/Desktop/datasets/Ex2/'\n",
    "                   'jobs_and_freelancers_combined_Ex2.csv')\n"
   ]
  },
  {
   "cell_type": "code",
   "execution_count": 105,
   "metadata": {},
   "outputs": [],
   "source": [
    ""
   ]
  },
  {
   "cell_type": "code",
   "execution_count": 100,
   "metadata": {},
   "outputs": [],
   "source": [
    ""
   ]
  },
  {
   "cell_type": "code",
   "execution_count": 104,
   "metadata": {},
   "outputs": [],
   "source": [
    ""
   ]
  },
  {
   "cell_type": "code",
   "execution_count": 104,
   "metadata": {},
   "outputs": [],
   "source": [
    ""
   ]
  },
  {
   "cell_type": "code",
   "execution_count": 103,
   "metadata": {},
   "outputs": [],
   "source": [
    ""
   ]
  },
  {
   "cell_type": "code",
   "execution_count": null,
   "metadata": {},
   "outputs": [],
   "source": []
  }
 ],
 "metadata": {
  "kernelspec": {
   "display_name": "Python 2",
   "language": "python",
   "name": "python2"
  },
  "language_info": {
   "codemirror_mode": {
    "name": "ipython",
    "version": 2
   },
   "file_extension": ".py",
   "mimetype": "text/x-python",
   "name": "python",
   "nbconvert_exporter": "python",
   "pygments_lexer": "ipython2",
   "version": "2.7.6"
  }
 },
 "nbformat": 4,
 "nbformat_minor": 0
}
