{
 "cells": [
  {
   "cell_type": "heading",
   "metadata": {
    "collapsed": true
   },
   "level": 1,
   "source": [
    "read a taxonomy "
   ]
  },
  {
   "cell_type": "code",
   "execution_count": 14,
   "metadata": {},
   "outputs": [],
   "source": [
    "from ete3 import Tree\n"
   ]
  },
  {
   "cell_type": "code",
   "execution_count": 15,
   "metadata": {},
   "outputs": [],
   "source": [
    "taxonomy =  Tree(\"skills_taxonomy_tree.nw\")"
   ]
  },
  {
   "cell_type": "code",
   "execution_count": 16,
   "metadata": {},
   "outputs": [],
   "source": [
    "taxonomy.show()"
   ]
  },
  {
   "cell_type": "code",
   "execution_count": 17,
   "metadata": {},
   "outputs": [
    {
     "name": "stdout",
     "output_type": "stream",
     "text": [
      "2.0\n"
     ]
    }
   ],
   "source": [
    "#find the depth of the tree \n",
    "node,  depth =  taxonomy.get_farthest_leaf()\n",
    "print(depth)\n",
    "root = taxonomy.get_tree_root()\n",
    "depth = int(depth)\n",
    "for i in range (0,depth+1):\n",
    "    for node in taxonomy.traverse(\"postorder\"):\n",
    "        j= i \n",
    "        j = float(j)\n",
    "        if node.get_distance(node,root)== j:\n",
    "            l = j/depth \n",
    "            node.add_feature('level_score', l)\n",
    "\n",
    "taxonomy.show()"
   ]
  },
  {
   "cell_type": "code",
   "execution_count": 18,
   "metadata": {},
   "outputs": [
    {
     "name": "stdout",
     "output_type": "stream",
     "text": [
      "1.0\n"
     ]
    }
   ],
   "source": [
    "\n",
    "Node = taxonomy.search_nodes(name ='Zbrush')[0]\n",
    "l = Node.level_score\n",
    "print(l)"
   ]
  },
  {
   "cell_type": "code",
   "execution_count": 19,
   "metadata": {},
   "outputs": [],
   "source": [
    "taxonomy.write(features=[],format=9,format_root_node=True,\n",
    "               outfile=\"skills_taxonomy_tree_level_score.nw\")"
   ]
  },
  {
   "cell_type": "code",
   "execution_count": 20,
   "metadata": {},
   "outputs": [],
   "source": [
    "taxonomy =  Tree(\"skills_taxonomy_tree_level_score.nw\")"
   ]
  },
  {
   "cell_type": "code",
   "execution_count": 21,
   "metadata": {},
   "outputs": [],
   "source": [
    "taxonomy.show()"
   ]
  },
  {
   "cell_type": "code",
   "execution_count": 17,
   "metadata": {},
   "outputs": [
    {
     "data": {
      "text/plain": [
       "[Tree node 'Sales & Marketing' (0xe5d1c412b),\n Tree node 'Writing & Content' (-0x7ffffff1a2e3bee0),\n Tree node 'Engineering & Science' (0xe5d1c4e6a),\n Tree node 'Websites_ IT & Software' (-0x7ffffff1a2e3a5e7),\n Tree node 'Freight_ Shipping & Transportation' (-0x7ffffff1a2e39977),\n Tree node 'Translation & Languages' (0xe5d1cd6ef),\n Tree node 'Mobile Phones & Computing' (-0x7ffffff1a2e32407),\n Tree node 'Design_ Media & Architecture' (0xe5d1c7655),\n Tree node 'Product Sourcing & Manufacturing' (-0x7ffffff1a2e31ed9),\n Tree node 'Local Jobs & Services' (0xe5d1cfe1d),\n Tree node 'Other' (-0x7ffffff1a2e301a1),\n Tree node 'Data Entry & Admin' (0xe5d1d0e63),\n Tree node 'Business_ Accounting_ Human Resources & Legal' (-0x7ffffff1a2e2f1af)]"
      ]
     },
     "execution_count": 17,
     "metadata": {},
     "output_type": "execute_result"
    }
   ],
   "source": [
    "taxonomy.children"
   ]
  },
  {
   "cell_type": "code",
   "execution_count": 8,
   "metadata": {},
   "outputs": [],
   "source": [
    "Node1 = taxonomy.search_nodes(name='CSS')[0]\n",
    "Node2 = taxonomy.search_nodes(name='HTML')[0]\n",
    "common = taxonomy.get_common_ancestor(Node1,Node2)"
   ]
  },
  {
   "cell_type": "code",
   "execution_count": 9,
   "metadata": {},
   "outputs": [
    {
     "name": "stdout",
     "output_type": "stream",
     "text": [
      "Websites_ IT & Software\n"
     ]
    }
   ],
   "source": [
    "print(common.name)"
   ]
  },
  {
   "cell_type": "code",
   "execution_count": 13,
   "metadata": {},
   "outputs": [
    {
     "name": "stdout",
     "output_type": "stream",
     "text": [
      "HTML\n"
     ]
    }
   ],
   "source": [
    "print(Node2.name)"
   ]
  },
  {
   "cell_type": "code",
   "execution_count": 12,
   "metadata": {},
   "outputs": [],
   "source": [
    ""
   ]
  },
  {
   "cell_type": "code",
   "execution_count": null,
   "metadata": {},
   "outputs": [],
   "source": []
  }
 ],
 "metadata": {
  "kernelspec": {
   "display_name": "Python 2",
   "language": "python",
   "name": "python2"
  },
  "language_info": {
   "codemirror_mode": {
    "name": "ipython",
    "version": 2
   },
   "file_extension": ".py",
   "mimetype": "text/x-python",
   "name": "python",
   "nbconvert_exporter": "python",
   "pygments_lexer": "ipython2",
   "version": "2.7.6"
  }
 },
 "nbformat": 4,
 "nbformat_minor": 0
}
