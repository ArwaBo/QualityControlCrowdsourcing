{
 "cells": [
  {
   "cell_type": "code",
   "execution_count": 1,
   "metadata": {},
   "outputs": [],
   "source": [
    "import pandas as pd\n",
    "task_df =  pd.read_csv('C:/Users/Arwa/Desktop/datasets/Ex2/Jobs_dataset_tokenized_Ex2.csv')"
   ]
  },
  {
   "cell_type": "code",
   "execution_count": 2,
   "metadata": {},
   "outputs": [
    {
     "name": "stdout",
     "output_type": "stream",
     "text": [
      "Wordpress Expert install theme\n",
      "install wordpress theme plugins two\n"
     ]
    }
   ],
   "source": [
    "print(task_df.loc[52,'Job_Title'])\n",
    "print(task_df.loc[53,'Job_Title'])"
   ]
  },
  {
   "cell_type": "code",
   "execution_count": 3,
   "metadata": {},
   "outputs": [
    {
     "name": "stdout",
     "output_type": "stream",
     "text": [
      "similarity of titles: 0.5101490193104813\n"
     ]
    }
   ],
   "source": [
    "from sklearn.feature_extraction.text import TfidfVectorizer\n",
    "from sklearn.metrics.pairwise import cosine_similarity\n",
    "\n",
    "if task_df.loc[52,'Job_Title']!= '' and task_df.loc[53,'Job_Title']!= '':\n",
    "    data = [\n",
    "        task_df.loc[52,'Job_Title'],\n",
    "        task_df.loc[53,'Job_Title']\n",
    "            ]\n",
    "\n",
    "    # Vectorise the data\n",
    "    vec = TfidfVectorizer()\n",
    "\n",
    "    X = vec.fit_transform(data)  # `X` will now be a TF-IDF representation of the data, the first row of `X` corresponds to the first sentence in `data`\n",
    "\n",
    "    # Calculate the pairwise cosine similarities (depending on the amount of data that you are going to have this could take a while)\n",
    "    S = cosine_similarity(X)\n",
    "    Title_Sim = S[1,0]\n",
    "else:\n",
    "    Title_Sim = 0\n",
    "print('similarity of titles:', Title_Sim)"
   ]
  },
  {
   "cell_type": "code",
   "execution_count": null,
   "metadata": {},
   "outputs": [],
   "source": []
  },
  {
   "cell_type": "code",
   "execution_count": 4,
   "metadata": {},
   "outputs": [
    {
     "data": {
      "text/plain": [
       "{'CSS', 'HTML', 'PHP', 'Plgin', 'WordPress'}"
      ]
     },
     "execution_count": 4,
     "metadata": {},
     "output_type": "execute_result"
    }
   ],
   "source": [
    "task_df.loc[53,'Required_Skills 5'] = 'Plgin'\n",
    "skills_t1 = {'CSS', 'HTML', 'PHP', 'WordPress', 'Plgin'}\n",
    "skills_t2 = {'CSS', 'HTML', 'PHP', 'WordPress', 'Plgin'}\n",
    "skills_t1"
   ]
  },
  {
   "cell_type": "code",
   "execution_count": 5,
   "metadata": {},
   "outputs": [
    {
     "data": {
      "text/plain": [
       "{'CSS', 'HTML', 'PHP', 'Plgin', 'WordPress'}"
      ]
     },
     "execution_count": 5,
     "metadata": {},
     "output_type": "execute_result"
    }
   ],
   "source": [
    "skills_t2"
   ]
  },
  {
   "cell_type": "code",
   "execution_count": 6,
   "metadata": {},
   "outputs": [
    {
     "name": "stdout",
     "output_type": "stream",
     "text": [
      "s2 Plgin\n",
      "s2 PHP\n",
      "s2 WordPress\n",
      "s2 HTML\n",
      "s2 CSS\n"
     ]
    }
   ],
   "source": [
    "for s2 in skills_t2:\n",
    "     print(\"s2\",s2)"
   ]
  },
  {
   "cell_type": "code",
   "execution_count": 7,
   "metadata": {},
   "outputs": [],
   "source": [
    "\n",
    "from ete3 import TreeNode,Tree\n",
    "from sklearn.feature_extraction.text import TfidfVectorizer\n",
    "from sklearn.metrics.pairwise import cosine_similarity\n",
    "\n",
    "\n",
    "def concept_similarity_measure_ex2(C1, C2):\n",
    "    \n",
    "    taxonomy = Tree(\"skills_small_taxonomy_tree_level_score.nw\")\n",
    "    # print(\"C1\",C1,\"\\n\",\"C2\",C2)\n",
    "    \n",
    "\n",
    "    N1 = 0 # the distance from Concept 1 to the least common subsumer\n",
    "    N2 = 0 # the distance from Concept 2 to the least common subsumer\n",
    "    N = 0  # the distance from  the least common subsumer to the root\n",
    "    \"\"\" -----------------L   he shortest path between the tow concepts------------------------------\"\"\"\n",
    "\n",
    "\n",
    "    node1 = taxonomy.search_nodes(name=C1)\n",
    "    node2 = taxonomy.search_nodes(name=C2)\n",
    "    # print('node1', node1)\n",
    "    # print('node2', node2)\n",
    "    # if the skill is not found in the taxonomy\n",
    "    if node1 == [] or node2 == []:\n",
    "        # print('skills not in taxonomy')\n",
    "        # print(C1, C2)\n",
    "        data = [C1, C2]\n",
    "\n",
    "        # Vectorise the data\n",
    "        vec = TfidfVectorizer()\n",
    "\n",
    "        X = vec.fit_transform(\n",
    "            data)  # `X` will now be a TF-IDF representation of the data, the first row of `X` corresponds to the first sentence in `data`\n",
    "\n",
    "        # Calculate the pairwise cosine similarities (depending on the amount of data that you are going to have this could take a while)\n",
    "        S = cosine_similarity(X)\n",
    "        similarity = S[0, 1]\n",
    "\n",
    "\n",
    "        # print('simmmms',similarity)\n",
    "        l1 = l2 = 1.0  # how much should it be\n",
    "\n",
    "    else:\n",
    "        node1 = node1[0]\n",
    "        node2 = node2[0]\n",
    "        common = node1.get_common_ancestor(node2)\n",
    "        # print(common.is_root())\n",
    "        # print(\"common is \",common.name)\n",
    "\n",
    "        \"\"\" ------------------N the distance from root node to the least common subsumer-------------------\"\"\"\n",
    "        root = taxonomy.get_tree_root()\n",
    "        N = taxonomy.get_distance(common, root, topology_only=False)\n",
    "        # print(\"N = the distance between the common ancestor\", common.name, \"AND  ROOT IS \", N)\n",
    "\n",
    "        \"\"\" ----------------N1 the distance from Concept 1 to the least common subsumer--------------------\"\"\"\n",
    "        N1 = taxonomy.get_distance(C1, common, topology_only=False)\n",
    "        # print(\"N1 = the distance between\",C1,\"AND  ROOT IS \",N1)\n",
    "\n",
    "        \"\"\" ----------------N1 the distance from Concept 2 to the least common subsumer--------------------\"\"\"\n",
    "        N2 = taxonomy.get_distance(C2, common, topology_only=False)\n",
    "        # print(\"N2 = the distance between\",C2, \"AND  ROOT IS \", N2)\n",
    "\n",
    "        \"\"\" -------------------------------COMPUTE THE MEASURE FORMULA----------------------------------------\"\"\"\n",
    "\n",
    "        similarity = (2*N)/(N1+N2+(2*N))\n",
    "\n",
    "        \n",
    "        l1 = node1.level_score\n",
    "        l2 = node2.level_score\n",
    "        similarity = round(similarity, 2)\n",
    "#         print(\"similarity between \", C1,\"and\",C2, \"is\", similarity)\n",
    "#         print(\"level score  \",C1,'  is', l1)\n",
    "#         print(\"level score  \",C2,'  is', l2)\n",
    "#         print(\"---------------------------------------------------\")\n",
    "    return similarity,l1,l2\n",
    "\n",
    "\n"
   ]
  },
  {
   "cell_type": "code",
   "execution_count": 8,
   "metadata": {},
   "outputs": [],
   "source": [
    "import numpy as np\n",
    "def is_nan(x):\n",
    "    return (x is np.nan)"
   ]
  },
  {
   "cell_type": "code",
   "execution_count": 9,
   "metadata": {},
   "outputs": [
    {
     "name": "stdout",
     "output_type": "stream",
     "text": [
      "['CSS', 'HTML', 'PHP', 'Plgin', 'WordPress']\n",
      "['Java', 'Plgin', 'Website Design', 'WordPress']\n"
     ]
    }
   ],
   "source": [
    "skills_t1 = ['CSS', 'HTML', 'PHP', 'WordPress', 'Plgin']\n",
    "skills_t2 = ['Plgin', 'Website Design', 'WordPress','Java']\n",
    "skills_t1.sort()\n",
    "skills_t2.sort()\n",
    "print(skills_t1)\n",
    "print(skills_t2)"
   ]
  },
  {
   "cell_type": "code",
   "execution_count": 13,
   "metadata": {
    "scrolled": false
   },
   "outputs": [
    {
     "name": "stdout",
     "output_type": "stream",
     "text": [
      "s1 CSS\n",
      "s2 Java\n",
      "0.25\n",
      "s1 CSS\n",
      "s2 Plgin\n",
      "0.55\n",
      "s1 CSS\n",
      "s2 Website Design\n",
      "0.75\n",
      "s1 CSS\n",
      "s2 WordPress\n",
      "0.6\n",
      "sim_list of round # 1 is   [0.25, 0.55, 0.75, 0.6]\n",
      "sum values > 0.8 =  0\n",
      "---------------------------------------------------\n"
     ]
    },
    {
     "ename": "NameError",
     "evalue": "name 'ave' is not defined",
     "output_type": "error",
     "traceback": [
      "\u001b[1;31m---------------------------------------------------------------------------\u001b[0m",
      "\u001b[1;31mNameError\u001b[0m                                 Traceback (most recent call last)",
      "\u001b[1;32m<ipython-input-13-ab3f70bf53b3>\u001b[0m in \u001b[0;36m<module>\u001b[1;34m\u001b[0m\n\u001b[0;32m     44\u001b[0m         \u001b[1;32mif\u001b[0m \u001b[0mj\u001b[0m \u001b[1;33m!=\u001b[0m \u001b[1;36m0\u001b[0m\u001b[1;33m:\u001b[0m\u001b[1;33m\u001b[0m\u001b[0m\n\u001b[0;32m     45\u001b[0m             \u001b[0mave\u001b[0m \u001b[1;33m=\u001b[0m \u001b[0mround\u001b[0m\u001b[1;33m(\u001b[0m\u001b[0mc\u001b[0m\u001b[1;33m/\u001b[0m\u001b[0mj\u001b[0m\u001b[1;33m,\u001b[0m \u001b[1;36m1\u001b[0m\u001b[1;33m)\u001b[0m\u001b[1;33m\u001b[0m\u001b[0m\n\u001b[1;32m---> 46\u001b[1;33m         \u001b[0mprint\u001b[0m\u001b[1;33m(\u001b[0m\u001b[1;34m\"AVE of the lsit\"\u001b[0m\u001b[1;33m,\u001b[0m \u001b[0mave\u001b[0m\u001b[1;33m)\u001b[0m\u001b[1;33m\u001b[0m\u001b[0m\n\u001b[0m\u001b[0;32m     47\u001b[0m         \u001b[0mave_list\u001b[0m\u001b[1;33m.\u001b[0m\u001b[0mappend\u001b[0m\u001b[1;33m(\u001b[0m\u001b[0mave\u001b[0m\u001b[1;33m)\u001b[0m\u001b[1;33m\u001b[0m\u001b[0m\n\u001b[0;32m     48\u001b[0m \u001b[0mprint\u001b[0m\u001b[1;33m(\u001b[0m\u001b[1;34m\"total count of values > 0.8 = \"\u001b[0m\u001b[1;33m,\u001b[0m \u001b[0mtotal_c\u001b[0m\u001b[1;33m)\u001b[0m\u001b[1;33m\u001b[0m\u001b[0m\n",
      "\u001b[1;31mNameError\u001b[0m: name 'ave' is not defined"
     ]
    }
   ],
   "source": [
    "weight_list = []\n",
    "sim_max = []\n",
    "ave_list = [] \n",
    "i = 0\n",
    " \n",
    "scaler = 0 \n",
    "total_c = 0 \n",
    "wve = 0\n",
    "for s1 in skills_t1:\n",
    "    c = 0 \n",
    "    j = 0 \n",
    "    i = i+1\n",
    "    sim_list = []\n",
    "    if not is_nan(s1):\n",
    "        \n",
    "        for s2 in skills_t2:\n",
    "            \n",
    "            if not is_nan(s2):\n",
    "                print(\"s1\", s1)\n",
    "                print(\"s2\",s2)\n",
    "                sim ,l1, l2 = concept_similarity_measure_ex2(s1, s2) # this function returns a tuple (sim, l1,l2)\n",
    "                sim = float(sim)  # convert to floats\n",
    "                l1 = float(l2)\n",
    "                l2 = float(l1)\n",
    "                print(sim)\n",
    "        \n",
    "            \n",
    "                sim_list.append(sim)\n",
    "        print('sim_list of round #',i, \"is  \", sim_list)\n",
    "        sim_list = np.array(sim_list)\n",
    "        \n",
    "#         maxima = sim_list.argmax()\n",
    "#         print(\"argmax = \", maxima)\n",
    "                \n",
    "        for k in sim_list:\n",
    "            if k >= 0.8025:\n",
    "                c= c + k \n",
    "                j = j +1\n",
    "                total_c = total_c + 1 \n",
    "        print(\"sum values > 0.8 = \", c)\n",
    "        print(\"---------------------------------------------------\")\n",
    "\n",
    "        scaler = scaler + len(sim_list)  \n",
    "        if j != 0:\n",
    "            ave = round(c/j, 1)\n",
    "        print(\"AVE of the lsit\", ave)\n",
    "        ave_list.append(ave)\n",
    "print(\"total count of values > 0.8 = \", total_c)\n",
    "skills_sim = round(total_c /scaler,1) \n",
    "print(\"length of all the lists \", scaler)\n",
    "print(\"SKILLS SIM total count /length of list * number of rounds = \", skills_sim)\n",
    "print(\"---------------------------------------------------\")\n",
    "\n",
    "print(\"average list\", ave_list)\n",
    "print(\"average of sim lsit\",sum(ave_list)/len(sim_list))\n"
   ]
  },
  {
   "cell_type": "code",
   "execution_count": 14,
   "metadata": {},
   "outputs": [
    {
     "ename": "NameError",
     "evalue": "name 'skills_sim' is not defined",
     "output_type": "error",
     "traceback": [
      "\u001b[1;31m---------------------------------------------------------------------------\u001b[0m",
      "\u001b[1;31mNameError\u001b[0m                                 Traceback (most recent call last)",
      "\u001b[1;32m<ipython-input-14-fdb192048e14>\u001b[0m in \u001b[0;36m<module>\u001b[1;34m\u001b[0m\n\u001b[0;32m      1\u001b[0m \u001b[0mC1\u001b[0m \u001b[1;33m=\u001b[0m \u001b[1;36m0.3\u001b[0m\u001b[1;33m\u001b[0m\u001b[0m\n\u001b[0;32m      2\u001b[0m \u001b[0mC2\u001b[0m \u001b[1;33m=\u001b[0m \u001b[1;36m0.7\u001b[0m\u001b[1;33m\u001b[0m\u001b[0m\n\u001b[1;32m----> 3\u001b[1;33m \u001b[0mtask_2_task_similarity_score\u001b[0m \u001b[1;33m=\u001b[0m \u001b[0mC1\u001b[0m\u001b[1;33m*\u001b[0m\u001b[0mTitle_Sim\u001b[0m \u001b[1;33m+\u001b[0m \u001b[0mC2\u001b[0m\u001b[1;33m*\u001b[0m\u001b[0mskills_sim\u001b[0m\u001b[1;33m\u001b[0m\u001b[0m\n\u001b[0m\u001b[0;32m      4\u001b[0m \u001b[0mtask_2_task_similarity_score\u001b[0m \u001b[1;33m=\u001b[0m \u001b[0mround\u001b[0m\u001b[1;33m(\u001b[0m\u001b[0mtask_2_task_similarity_score\u001b[0m\u001b[1;33m,\u001b[0m \u001b[1;36m1\u001b[0m\u001b[1;33m)\u001b[0m\u001b[1;33m\u001b[0m\u001b[0m\n\u001b[0;32m      5\u001b[0m \u001b[0mprint\u001b[0m\u001b[1;33m(\u001b[0m\u001b[0mtask_2_task_similarity_score\u001b[0m\u001b[1;33m)\u001b[0m\u001b[1;33m\u001b[0m\u001b[0m\n",
      "\u001b[1;31mNameError\u001b[0m: name 'skills_sim' is not defined"
     ]
    }
   ],
   "source": [
    "C1 = 0.3\n",
    "C2 = 0.7\n",
    "task_2_task_similarity_score = C1*Title_Sim + C2*skills_sim\n",
    "task_2_task_similarity_score = round(task_2_task_similarity_score, 1)\n",
    "print(task_2_task_similarity_score)"
   ]
  },
  {
   "cell_type": "code",
   "execution_count": 23,
   "metadata": {},
   "outputs": [
    {
     "name": "stdout",
     "output_type": "stream",
     "text": [
      "['CSS', 'HTML', 'PHP', 'WordPress', 'Plgin']\n",
      "['Plgin', 'Website Design', 'WordPress', 'SQL']\n"
     ]
    }
   ],
   "source": [
    "skills_t1 = ['CSS', 'HTML', 'PHP', 'WordPress', 'Plgin']\n",
    "skills_t2 = ['Plgin', 'Website Design', 'WordPress','SQL']\n",
    "# skills_t1.sort()\n",
    "# skills_t2.sort()\n",
    "print(skills_t1)\n",
    "print(skills_t2)"
   ]
  },
  {
   "cell_type": "code",
   "execution_count": 24,
   "metadata": {
    "scrolled": false
   },
   "outputs": [
    {
     "name": "stdout",
     "output_type": "stream",
     "text": [
      "s1 CSS\n",
      "s2 Plgin\n",
      "0.55\n",
      "s1 CSS\n",
      "s2 Website Design\n",
      "0.75\n",
      "s1 CSS\n",
      "s2 WordPress\n",
      "0.6\n",
      "s1 CSS\n",
      "s2 SQL\n",
      "0.25\n",
      "sim_list of round # 1 is   [0.55, 0.75, 0.6, 0.25]\n",
      "sum values > 0.8 =  0\n",
      "---------------------------------------------------\n",
      "s1 HTML\n",
      "s2 Plgin\n",
      "0.6\n",
      "s1 HTML\n",
      "s2 Website Design\n",
      "0.86\n",
      "s1 HTML\n",
      "s2 WordPress\n",
      "0.67\n",
      "s1 HTML\n",
      "s2 SQL\n",
      "0.29\n",
      "sim_list of round # 2 is   [0.6, 0.86, 0.67, 0.29]\n",
      "sum values > 0.8 =  0.86\n",
      "---------------------------------------------------\n",
      "AVE of the lsit 0.9\n",
      "s1 PHP\n",
      "s2 Plgin\n",
      "0.8\n",
      "s1 PHP\n",
      "s2 Website Design\n",
      "0.86\n",
      "s1 PHP\n",
      "s2 WordPress\n",
      "0.89\n",
      "s1 PHP\n",
      "s2 SQL\n",
      "0.29\n",
      "sim_list of round # 3 is   [0.8, 0.86, 0.89, 0.29]\n",
      "sum values > 0.8 =  1.75\n",
      "---------------------------------------------------\n",
      "AVE of the lsit 0.9\n",
      "s1 WordPress\n",
      "s2 Plgin\n",
      "0.91\n",
      "s1 WordPress\n",
      "s2 Website Design\n",
      "0.75\n",
      "s1 WordPress\n",
      "s2 WordPress\n",
      "1.0\n",
      "s1 WordPress\n",
      "s2 SQL\n",
      "0.25\n",
      "sim_list of round # 4 is   [0.91, 0.75, 1.0, 0.25]\n",
      "sum values > 0.8 =  1.9100000000000001\n",
      "---------------------------------------------------\n",
      "AVE of the lsit 1.0\n",
      "s1 Plgin\n",
      "s2 Plgin\n",
      "1.0\n",
      "s1 Plgin\n",
      "s2 Website Design\n",
      "0.67\n",
      "s1 Plgin\n",
      "s2 WordPress\n",
      "0.91\n",
      "s1 Plgin\n",
      "s2 SQL\n",
      "0.22\n",
      "sim_list of round # 5 is   [1.0, 0.67, 0.91, 0.22]\n",
      "sum values > 0.8 =  1.9100000000000001\n",
      "---------------------------------------------------\n",
      "AVE of the lsit 1.0\n",
      "total count of values > 0.8 =  7\n",
      "length of all the lists  20\n",
      "SKILLS SIM total count /length of list * number of rounds =  0.3\n",
      "---------------------------------------------------\n",
      "average list [0, 0.9, 0.9, 1.0, 1.0]\n",
      "average of sim lsit 0.95\n"
     ]
    }
   ],
   "source": [
    "weight_list = []\n",
    "sim_max = []\n",
    "ave_list = [] \n",
    "i = 0\n",
    "import pandas as pd  \n",
    "scaler = 0 \n",
    "total_c = 0 \n",
    "sim_df = pd.DataFrame()\n",
    "ave = 0 \n",
    "for s1 in skills_t1:\n",
    "    c = 0 \n",
    "    j = 0 \n",
    "    i = i+1\n",
    "    sim_list = []\n",
    "    if not is_nan(s1):\n",
    "        \n",
    "        for s2 in skills_t2:\n",
    "            \n",
    "            if not is_nan(s2):\n",
    "                print(\"s1\", s1)\n",
    "                print(\"s2\",s2)\n",
    "                sim ,l1, l2 = concept_similarity_measure_ex2(s1, s2) # this function returns a tuple (sim, l1,l2)\n",
    "                sim = float(sim)  # convert to floats\n",
    "                l1 = float(l2)\n",
    "                l2 = float(l1)\n",
    "                print(sim)\n",
    "                sim_df.loc[s1,s2] = sim\n",
    "            \n",
    "                sim_list.append(sim)\n",
    "        print('sim_list of round #',i, \"is  \", sim_list)\n",
    "        sim_list = np.array(sim_list)\n",
    "        \n",
    "#         maxima = sim_list.argmax()\n",
    "#         print(\"argmax = \", maxima)\n",
    "                \n",
    "        for k in sim_list:\n",
    "            if k >= 0.8025:\n",
    "                c= c + k \n",
    "                j = j +1\n",
    "                total_c = total_c + 1 \n",
    "        print(\"sum values > 0.8 = \", c)\n",
    "        print(\"---------------------------------------------------\")\n",
    "\n",
    "        scaler = scaler + len(sim_list) \n",
    "        if j != 0  :\n",
    "            ave = round(c/j, 1)\n",
    "            print(\"AVE of the lsit\", ave)\n",
    "        ave_list.append(ave)\n",
    "print(\"total count of values > 0.8 = \", total_c)\n",
    "skills_sim = round(total_c /scaler,1) \n",
    "print(\"length of all the lists \", scaler)\n",
    "print(\"SKILLS SIM total count /length of list * number of rounds = \", skills_sim)\n",
    "print(\"---------------------------------------------------\")\n",
    "\n",
    "print(\"average list\", ave_list)\n",
    "print(\"average of sim lsit\",sum(ave_list)/len(sim_list))\n",
    "\n"
   ]
  },
  {
   "cell_type": "code",
   "execution_count": 25,
   "metadata": {
    "scrolled": true
   },
   "outputs": [
    {
     "data": {
      "text/html": [
       "<div>\n",
       "<style scoped>\n",
       "    .dataframe tbody tr th:only-of-type {\n",
       "        vertical-align: middle;\n",
       "    }\n",
       "\n",
       "    .dataframe tbody tr th {\n",
       "        vertical-align: top;\n",
       "    }\n",
       "\n",
       "    .dataframe thead th {\n",
       "        text-align: right;\n",
       "    }\n",
       "</style>\n",
       "<table border=\"1\" class=\"dataframe\">\n",
       "  <thead>\n",
       "    <tr style=\"text-align: right;\">\n",
       "      <th></th>\n",
       "      <th>Plgin</th>\n",
       "      <th>Website Design</th>\n",
       "      <th>WordPress</th>\n",
       "      <th>SQL</th>\n",
       "    </tr>\n",
       "  </thead>\n",
       "  <tbody>\n",
       "    <tr>\n",
       "      <th>CSS</th>\n",
       "      <td>0.55</td>\n",
       "      <td>0.75</td>\n",
       "      <td>0.60</td>\n",
       "      <td>0.25</td>\n",
       "    </tr>\n",
       "    <tr>\n",
       "      <th>HTML</th>\n",
       "      <td>0.60</td>\n",
       "      <td>0.86</td>\n",
       "      <td>0.67</td>\n",
       "      <td>0.29</td>\n",
       "    </tr>\n",
       "    <tr>\n",
       "      <th>PHP</th>\n",
       "      <td>0.80</td>\n",
       "      <td>0.86</td>\n",
       "      <td>0.89</td>\n",
       "      <td>0.29</td>\n",
       "    </tr>\n",
       "    <tr>\n",
       "      <th>WordPress</th>\n",
       "      <td>0.91</td>\n",
       "      <td>0.75</td>\n",
       "      <td>1.00</td>\n",
       "      <td>0.25</td>\n",
       "    </tr>\n",
       "    <tr>\n",
       "      <th>Plgin</th>\n",
       "      <td>1.00</td>\n",
       "      <td>0.67</td>\n",
       "      <td>0.91</td>\n",
       "      <td>0.22</td>\n",
       "    </tr>\n",
       "  </tbody>\n",
       "</table>\n",
       "</div>"
      ],
      "text/plain": [
       "           Plgin  Website Design  WordPress   SQL\n",
       "CSS         0.55            0.75       0.60  0.25\n",
       "HTML        0.60            0.86       0.67  0.29\n",
       "PHP         0.80            0.86       0.89  0.29\n",
       "WordPress   0.91            0.75       1.00  0.25\n",
       "Plgin       1.00            0.67       0.91  0.22"
      ]
     },
     "execution_count": 25,
     "metadata": {},
     "output_type": "execute_result"
    }
   ],
   "source": [
    "sim_df"
   ]
  },
  {
   "cell_type": "code",
   "execution_count": 26,
   "metadata": {},
   "outputs": [
    {
     "data": {
      "text/plain": [
       "(5, 4)"
      ]
     },
     "execution_count": 26,
     "metadata": {},
     "output_type": "execute_result"
    }
   ],
   "source": [
    "sim_df.shape"
   ]
  },
  {
   "cell_type": "code",
   "execution_count": 31,
   "metadata": {},
   "outputs": [
    {
     "data": {
      "text/plain": [
       "((5, 4), (4,), (4, 4))"
      ]
     },
     "execution_count": 31,
     "metadata": {},
     "output_type": "execute_result"
    }
   ],
   "source": [
    "from scipy.linalg import svd\n",
    "\n",
    "\n",
    "U, S, V = svd(sim_df, full_matrices=False)\n",
    "U.shape, S.shape, V.shape\n",
    "\n",
    "\n"
   ]
  },
  {
   "cell_type": "code",
   "execution_count": 32,
   "metadata": {
    "scrolled": true
   },
   "outputs": [
    {
     "data": {
      "text/plain": [
       "array([[0.55, 0.75, 0.6 , 0.25],\n",
       "       [0.6 , 0.86, 0.67, 0.29],\n",
       "       [0.8 , 0.86, 0.89, 0.29],\n",
       "       [0.91, 0.75, 1.  , 0.25],\n",
       "       [1.  , 0.67, 0.91, 0.22]])"
      ]
     },
     "execution_count": 32,
     "metadata": {},
     "output_type": "execute_result"
    }
   ],
   "source": [
    "# reconstructing the original matrix \n",
    "np.dot(U.dot(np.diag(S)), V)"
   ]
  },
  {
   "cell_type": "code",
   "execution_count": 42,
   "metadata": {
    "scrolled": true
   },
   "outputs": [
    {
     "name": "stdout",
     "output_type": "stream",
     "text": [
      "U\n",
      "[[-0.35826264 -0.44665345  0.2099729  -0.71208919]\n",
      " [-0.40211295 -0.57011472  0.17368125  0.30636737]\n",
      " [-0.4794394  -0.13167309 -0.28364323  0.54110332]\n",
      " [-0.49820434  0.34548079 -0.64831706 -0.31933139]\n",
      " [-0.48154268  0.58204393  0.65190315  0.06559481]]\n",
      "\n",
      "\n",
      "\n",
      "S\n",
      "3.1304979029220643\n",
      "0.38334106800625367\n",
      "0.08617648526031156\n",
      "0.002473614472609641\n"
     ]
    },
    {
     "ename": "IndexError",
     "evalue": "index 4 is out of bounds for axis 0 with size 4",
     "output_type": "error",
     "traceback": [
      "\u001b[1;31m---------------------------------------------------------------------------\u001b[0m",
      "\u001b[1;31mIndexError\u001b[0m                                Traceback (most recent call last)",
      "\u001b[1;32m<ipython-input-42-10e5dc7bbf1e>\u001b[0m in \u001b[0;36m<module>\u001b[1;34m\u001b[0m\n\u001b[0;32m      7\u001b[0m \u001b[0mprint\u001b[0m\u001b[1;33m(\u001b[0m\u001b[0mS\u001b[0m\u001b[1;33m[\u001b[0m\u001b[1;36m2\u001b[0m\u001b[1;33m]\u001b[0m\u001b[1;33m)\u001b[0m\u001b[1;33m\u001b[0m\u001b[0m\n\u001b[0;32m      8\u001b[0m \u001b[0mprint\u001b[0m\u001b[1;33m(\u001b[0m\u001b[0mS\u001b[0m\u001b[1;33m[\u001b[0m\u001b[1;36m3\u001b[0m\u001b[1;33m]\u001b[0m\u001b[1;33m)\u001b[0m\u001b[1;33m\u001b[0m\u001b[0m\n\u001b[1;32m----> 9\u001b[1;33m \u001b[0mprint\u001b[0m\u001b[1;33m(\u001b[0m\u001b[0mS\u001b[0m\u001b[1;33m[\u001b[0m\u001b[1;36m4\u001b[0m\u001b[1;33m]\u001b[0m\u001b[1;33m)\u001b[0m\u001b[1;33m\u001b[0m\u001b[0m\n\u001b[0m\u001b[0;32m     10\u001b[0m \u001b[0mprint\u001b[0m\u001b[1;33m(\u001b[0m\u001b[1;34m\"\\n\\n\"\u001b[0m\u001b[1;33m)\u001b[0m\u001b[1;33m\u001b[0m\u001b[0m\n\u001b[0;32m     11\u001b[0m \u001b[0mprint\u001b[0m\u001b[1;33m(\u001b[0m\u001b[1;34m\"V\"\u001b[0m\u001b[1;33m)\u001b[0m\u001b[1;33m\u001b[0m\u001b[0m\n",
      "\u001b[1;31mIndexError\u001b[0m: index 4 is out of bounds for axis 0 with size 4"
     ]
    }
   ],
   "source": [
    "print(\"U\")\n",
    "print(U)\n",
    "print(\"\\n\\n\")\n",
    "print(\"S\")\n",
    "print(S[0])\n",
    "print(S[1])\n",
    "print(S[2])\n",
    "print(S[3])\n",
    "print(S[4])\n",
    "print(\"\\n\\n\")\n",
    "print(\"V\")\n",
    "print(V)"
   ]
  },
  {
   "cell_type": "code",
   "execution_count": 33,
   "metadata": {},
   "outputs": [
    {
     "data": {
      "text/plain": [
       "array([-1.12154045, -1.25881373, -1.50088405, -1.55962765, -1.50746834])"
      ]
     },
     "execution_count": 33,
     "metadata": {},
     "output_type": "execute_result"
    }
   ],
   "source": [
    "new_S = S[0]\n",
    "new_U = U[:, 0]\n",
    "new_U.dot(new_S)\n",
    "\n"
   ]
  },
  {
   "cell_type": "code",
   "execution_count": 133,
   "metadata": {},
   "outputs": [
    {
     "data": {
      "text/plain": [
       "3.1304979029220643"
      ]
     },
     "execution_count": 133,
     "metadata": {},
     "output_type": "execute_result"
    }
   ],
   "source": [
    "s[0] #highst singular value "
   ]
  },
  {
   "cell_type": "code",
   "execution_count": 160,
   "metadata": {},
   "outputs": [],
   "source": [
    "\n",
    "import pandas as pd\n",
    "import numpy as np \n",
    "from sklearn import linear_model\n",
    "from matplotlib import pyplot as plt\n",
    "from sklearn.ensemble import RandomForestClassifier\n",
    "from sklearn.model_selection import train_test_split\n",
    "from sklearn.decomposition import PCA,TruncatedSVD\n",
    "from sklearn.preprocessing import normalize"
   ]
  },
  {
   "cell_type": "code",
   "execution_count": 161,
   "metadata": {},
   "outputs": [],
   "source": [
    "svd = TruncatedSVD(n_components = 3)\n",
    "x = svd.fit(sim_df).transform(sim_df)"
   ]
  },
  {
   "cell_type": "code",
   "execution_count": 162,
   "metadata": {},
   "outputs": [
    {
     "data": {
      "text/plain": [
       "TruncatedSVD(algorithm='randomized', n_components=3, n_iter=5,\n",
       "       random_state=None, tol=0.0)"
      ]
     },
     "execution_count": 162,
     "metadata": {},
     "output_type": "execute_result"
    }
   ],
   "source": [
    "svd"
   ]
  },
  {
   "cell_type": "code",
   "execution_count": null,
   "metadata": {},
   "outputs": [],
   "source": []
  },
  {
   "cell_type": "code",
   "execution_count": null,
   "metadata": {},
   "outputs": [],
   "source": []
  },
  {
   "cell_type": "code",
   "execution_count": 163,
   "metadata": {
    "scrolled": true
   },
   "outputs": [
    {
     "name": "stdout",
     "output_type": "stream",
     "text": [
      "[3.27114526e-31 1.00000000e+00]\n",
      "1.0000000000000007\n",
      "[1.22888121 0.69989355]\n"
     ]
    }
   ],
   "source": [
    "from sklearn.decomposition import TruncatedSVD\n",
    "from sklearn.random_projection import sparse_random_matrix\n",
    "\n",
    "svd = TruncatedSVD(n_components=5)\n",
    "svd.fit(X)  \n",
    "\n",
    "\n",
    "print(svd.explained_variance_ratio_)  \n",
    "\n",
    "print(svd.explained_variance_ratio_.sum())  \n",
    "\n",
    "print(svd.singular_values_) "
   ]
  },
  {
   "cell_type": "code",
   "execution_count": 159,
   "metadata": {},
   "outputs": [
    {
     "name": "stdout",
     "output_type": "stream",
     "text": [
      "[0. 1.]\n"
     ]
    }
   ],
   "source": [
    "print(svd.explained_variance_ratio_ ) "
   ]
  },
  {
   "cell_type": "code",
   "execution_count": 125,
   "metadata": {},
   "outputs": [],
   "source": [
    "def test_algorithms():\n",
    "    svd_a = TruncatedSVD(30, algorithm=\"arpack\")\n",
    "    svd_r = TruncatedSVD(30, algorithm=\"randomized\", random_state=42)\n",
    " \n",
    "    Xa = svd_a.fit_transform(X)[:, :6]\n",
    "    Xr = svd_r.fit_transform(X)[:, :6]\n",
    "    assert_array_almost_equal(Xa, Xr, decimal=5)\n",
    " \n",
    "    comp_a = np.abs(svd_a.components_)\n",
    "    comp_r = np.abs(svd_r.components_)\n",
    "    # All elements are equal, but some elements are more equal than others.\n",
    "    assert_array_almost_equal(comp_a[:9], comp_r[:9])\n",
    "    assert_array_almost_equal(comp_a[9:], comp_r[9:], decimal=2)"
   ]
  },
  {
   "cell_type": "code",
   "execution_count": 126,
   "metadata": {},
   "outputs": [
    {
     "ename": "ValueError",
     "evalue": "k must be between 1 and min(A.shape), k=30",
     "output_type": "error",
     "traceback": [
      "\u001b[1;31m---------------------------------------------------------------------------\u001b[0m",
      "\u001b[1;31mValueError\u001b[0m                                Traceback (most recent call last)",
      "\u001b[1;32m<ipython-input-126-7ed1cc331a7e>\u001b[0m in \u001b[0;36m<module>\u001b[1;34m\u001b[0m\n\u001b[1;32m----> 1\u001b[1;33m \u001b[0mtest_algorithms\u001b[0m\u001b[1;33m(\u001b[0m\u001b[1;33m)\u001b[0m\u001b[1;33m\u001b[0m\u001b[0m\n\u001b[0m",
      "\u001b[1;32m<ipython-input-125-85e888cee2f4>\u001b[0m in \u001b[0;36mtest_algorithms\u001b[1;34m()\u001b[0m\n\u001b[0;32m      3\u001b[0m     \u001b[0msvd_r\u001b[0m \u001b[1;33m=\u001b[0m \u001b[0mTruncatedSVD\u001b[0m\u001b[1;33m(\u001b[0m\u001b[1;36m30\u001b[0m\u001b[1;33m,\u001b[0m \u001b[0malgorithm\u001b[0m\u001b[1;33m=\u001b[0m\u001b[1;34m\"randomized\"\u001b[0m\u001b[1;33m,\u001b[0m \u001b[0mrandom_state\u001b[0m\u001b[1;33m=\u001b[0m\u001b[1;36m42\u001b[0m\u001b[1;33m)\u001b[0m\u001b[1;33m\u001b[0m\u001b[0m\n\u001b[0;32m      4\u001b[0m \u001b[1;33m\u001b[0m\u001b[0m\n\u001b[1;32m----> 5\u001b[1;33m     \u001b[0mXa\u001b[0m \u001b[1;33m=\u001b[0m \u001b[0msvd_a\u001b[0m\u001b[1;33m.\u001b[0m\u001b[0mfit_transform\u001b[0m\u001b[1;33m(\u001b[0m\u001b[0mX\u001b[0m\u001b[1;33m)\u001b[0m\u001b[1;33m[\u001b[0m\u001b[1;33m:\u001b[0m\u001b[1;33m,\u001b[0m \u001b[1;33m:\u001b[0m\u001b[1;36m6\u001b[0m\u001b[1;33m]\u001b[0m\u001b[1;33m\u001b[0m\u001b[0m\n\u001b[0m\u001b[0;32m      6\u001b[0m     \u001b[0mXr\u001b[0m \u001b[1;33m=\u001b[0m \u001b[0msvd_r\u001b[0m\u001b[1;33m.\u001b[0m\u001b[0mfit_transform\u001b[0m\u001b[1;33m(\u001b[0m\u001b[0mX\u001b[0m\u001b[1;33m)\u001b[0m\u001b[1;33m[\u001b[0m\u001b[1;33m:\u001b[0m\u001b[1;33m,\u001b[0m \u001b[1;33m:\u001b[0m\u001b[1;36m6\u001b[0m\u001b[1;33m]\u001b[0m\u001b[1;33m\u001b[0m\u001b[0m\n\u001b[0;32m      7\u001b[0m     \u001b[0massert_array_almost_equal\u001b[0m\u001b[1;33m(\u001b[0m\u001b[0mXa\u001b[0m\u001b[1;33m,\u001b[0m \u001b[0mXr\u001b[0m\u001b[1;33m,\u001b[0m \u001b[0mdecimal\u001b[0m\u001b[1;33m=\u001b[0m\u001b[1;36m5\u001b[0m\u001b[1;33m)\u001b[0m\u001b[1;33m\u001b[0m\u001b[0m\n",
      "\u001b[1;32m~\\Miniconda3\\lib\\site-packages\\sklearn\\decomposition\\truncated_svd.py\u001b[0m in \u001b[0;36mfit_transform\u001b[1;34m(self, X, y)\u001b[0m\n\u001b[0;32m    162\u001b[0m \u001b[1;33m\u001b[0m\u001b[0m\n\u001b[0;32m    163\u001b[0m         \u001b[1;32mif\u001b[0m \u001b[0mself\u001b[0m\u001b[1;33m.\u001b[0m\u001b[0malgorithm\u001b[0m \u001b[1;33m==\u001b[0m \u001b[1;34m\"arpack\"\u001b[0m\u001b[1;33m:\u001b[0m\u001b[1;33m\u001b[0m\u001b[0m\n\u001b[1;32m--> 164\u001b[1;33m             \u001b[0mU\u001b[0m\u001b[1;33m,\u001b[0m \u001b[0mSigma\u001b[0m\u001b[1;33m,\u001b[0m \u001b[0mVT\u001b[0m \u001b[1;33m=\u001b[0m \u001b[0msvds\u001b[0m\u001b[1;33m(\u001b[0m\u001b[0mX\u001b[0m\u001b[1;33m,\u001b[0m \u001b[0mk\u001b[0m\u001b[1;33m=\u001b[0m\u001b[0mself\u001b[0m\u001b[1;33m.\u001b[0m\u001b[0mn_components\u001b[0m\u001b[1;33m,\u001b[0m \u001b[0mtol\u001b[0m\u001b[1;33m=\u001b[0m\u001b[0mself\u001b[0m\u001b[1;33m.\u001b[0m\u001b[0mtol\u001b[0m\u001b[1;33m)\u001b[0m\u001b[1;33m\u001b[0m\u001b[0m\n\u001b[0m\u001b[0;32m    165\u001b[0m             \u001b[1;31m# svds doesn't abide by scipy.linalg.svd/randomized_svd\u001b[0m\u001b[1;33m\u001b[0m\u001b[1;33m\u001b[0m\u001b[0m\n\u001b[0;32m    166\u001b[0m             \u001b[1;31m# conventions, so reverse its outputs.\u001b[0m\u001b[1;33m\u001b[0m\u001b[1;33m\u001b[0m\u001b[0m\n",
      "\u001b[1;32m~\\Miniconda3\\lib\\site-packages\\scipy\\sparse\\linalg\\eigen\\arpack\\arpack.py\u001b[0m in \u001b[0;36msvds\u001b[1;34m(A, k, ncv, tol, which, v0, maxiter, return_singular_vectors)\u001b[0m\n\u001b[0;32m   1722\u001b[0m \u001b[1;33m\u001b[0m\u001b[0m\n\u001b[0;32m   1723\u001b[0m     \u001b[1;32mif\u001b[0m \u001b[0mk\u001b[0m \u001b[1;33m<=\u001b[0m \u001b[1;36m0\u001b[0m \u001b[1;32mor\u001b[0m \u001b[0mk\u001b[0m \u001b[1;33m>=\u001b[0m \u001b[0mmin\u001b[0m\u001b[1;33m(\u001b[0m\u001b[0mn\u001b[0m\u001b[1;33m,\u001b[0m \u001b[0mm\u001b[0m\u001b[1;33m)\u001b[0m\u001b[1;33m:\u001b[0m\u001b[1;33m\u001b[0m\u001b[0m\n\u001b[1;32m-> 1724\u001b[1;33m         \u001b[1;32mraise\u001b[0m \u001b[0mValueError\u001b[0m\u001b[1;33m(\u001b[0m\u001b[1;34m\"k must be between 1 and min(A.shape), k=%d\"\u001b[0m \u001b[1;33m%\u001b[0m \u001b[0mk\u001b[0m\u001b[1;33m)\u001b[0m\u001b[1;33m\u001b[0m\u001b[0m\n\u001b[0m\u001b[0;32m   1725\u001b[0m \u001b[1;33m\u001b[0m\u001b[0m\n\u001b[0;32m   1726\u001b[0m     \u001b[1;32mif\u001b[0m \u001b[0misinstance\u001b[0m\u001b[1;33m(\u001b[0m\u001b[0mA\u001b[0m\u001b[1;33m,\u001b[0m \u001b[0mLinearOperator\u001b[0m\u001b[1;33m)\u001b[0m\u001b[1;33m:\u001b[0m\u001b[1;33m\u001b[0m\u001b[0m\n",
      "\u001b[1;31mValueError\u001b[0m: k must be between 1 and min(A.shape), k=30"
     ]
    }
   ],
   "source": [
    "test_algorithms()"
   ]
  },
  {
   "cell_type": "code",
   "execution_count": null,
   "metadata": {},
   "outputs": [],
   "source": []
  }
 ],
 "metadata": {
  "kernelspec": {
   "display_name": "Python 3",
   "language": "python",
   "name": "python3"
  },
  "language_info": {
   "codemirror_mode": {
    "name": "ipython",
    "version": 3
   },
   "file_extension": ".py",
   "mimetype": "text/x-python",
   "name": "python",
   "nbconvert_exporter": "python",
   "pygments_lexer": "ipython3",
   "version": "3.6.3"
  }
 },
 "nbformat": 4,
 "nbformat_minor": 2
}
